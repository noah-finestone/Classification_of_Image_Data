{
  "nbformat": 4,
  "nbformat_minor": 0,
  "metadata": {
    "colab": {
      "name": "Mini Project 3: Classification of Image Data.ipynb",
      "provenance": [],
      "collapsed_sections": []
    },
    "kernelspec": {
      "name": "python3",
      "display_name": "Python 3"
    },
    "language_info": {
      "name": "python"
    }
  },
  "cells": [
    {
      "cell_type": "markdown",
      "source": [
        "# MiniProject 3: Classification of Image Data"
      ],
      "metadata": {
        "id": "zCfOgnY52zXp"
      }
    },
    {
      "cell_type": "markdown",
      "source": [
        "In this miniproject, you will implement a multilayer perceptron from scratch, and use it to classify image data. The goal is to implement a basic neural network and its training algorithm from scratch and get hands-on experience with important decisions that you have to make while training these models. You will also have a chance to experiment with convolutional neural networks."
      ],
      "metadata": {
        "id": "ZoOMO_Le2-jM"
      }
    },
    {
      "cell_type": "markdown",
      "source": [
        "## Task 1: Acquire the data\n",
        "\n",
        "Your first task is to acquire the image dataset. You will be using only one dataset in your experiments: Fashion-\n",
        "MNIST. Use the Fashion-MNIST dataset with the default train and test partitions. You can use existing machine learning libraries to load the dataset. Note that while working with multilayer perceptrons, after loading the data, you will have to vectorize it so that it can have the appropriate dimensions. Also do not forget to normalize the training and test set (see https://cs231n.github.io/neural-networks-2/#datapre).\n",
        "Based on your previous miniprojects, you might be asking the question: where are the features? Well, this is the whole point of using neural nets: instead of hand-designing the features, you train the model so that the feature extractor is also learned together with the classifier on top.\n"
      ],
      "metadata": {
        "id": "PMhTRaRGijZU"
      }
    },
    {
      "cell_type": "code",
      "source": [
        "##### IMPORT RELEVANT LIBRARIES AND DATA #####\n",
        "import numpy as np\n",
        "import pandas as pd\n",
        "import itertools\n",
        "%matplotlib inline\n",
        "import matplotlib.pyplot as plt\n",
        "import math \n",
        "\n",
        "from sklearn import model_selection\n",
        "from sklearn import preprocessing\n",
        "from sklearn.feature_extraction.text import CountVectorizer, TfidfTransformer, TfidfVectorizer\n",
        "\n",
        "import tensorflow as tf\n",
        "from keras.utils.np_utils import to_categorical\n",
        "\n",
        "import pickle\n",
        "\n",
        "np.random.seed(1234)\n",
        "np.random.seed(1234)\n",
        "epochs = 5\n",
        "batch_size=100"
      ],
      "metadata": {
        "id": "0fI2MsL8imyw"
      },
      "execution_count": 23,
      "outputs": []
    },
    {
      "cell_type": "code",
      "source": [
        "from matplotlib.figure import figaspect\n",
        "##### FASHION-MNIST DATASET #####\n",
        "\n",
        "# Acquire the data\n",
        "fashion_mnist = tf.keras.datasets.fashion_mnist\n",
        "(x_train, y_train), (x_test, y_test) = fashion_mnist.load_data()\n",
        "\n",
        "# Plot the first 6 images with respective target class\n",
        "plt.figure(figsize=(7,8))\n",
        "for i in range(6):\n",
        "\tplt.subplot(330 + 1 + i)\n",
        "\tplt.imshow(x_train[i], cmap=plt.get_cmap('gray'))\n",
        "\tplt.title('Class: {}'.format(y_train[i]))\n",
        "plt.show()\n"
      ],
      "metadata": {
        "id": "yNSpIyQCnht6",
        "colab": {
          "base_uri": "https://localhost:8080/",
          "height": 332
        },
        "outputId": "6e064bba-c786-4e52-f42a-3c2362942648"
      },
      "execution_count": 24,
      "outputs": [
        {
          "output_type": "display_data",
          "data": {
            "text/plain": [
              "<Figure size 504x576 with 6 Axes>"
            ],
            "image/png": "[encoded data removed]"
          },
          "metadata": {
            "needs_background": "light"
          }
        }
      ]
    },
    {
      "cell_type": "code",
      "source": [
        "##### ANALYZE THE FASHION-MNIST DATASET #####\n",
        "\n",
        "# Print class labels with respective 0-9 number they correspond to  \n",
        "class_names = ['T-shirt/top', 'Trouser', 'Pullover', 'Dress', 'Coat', 'Sandal', 'Shirt', 'Sneaker', 'Bag', 'Ankle Boot']\n",
        "class_labels = list(set(y_train))\n",
        "mapped = zip(class_names, set(class_labels))\n",
        "print('The 10 target classes are:', list(mapped))\n",
        "\n",
        "print('\\n')\n",
        "\n",
        "# Training Data\n",
        "print('Traing:')\n",
        "len_training = len(x_train)\n",
        "print('Number of training images:', len_training)\n",
        "classes, counts = np.unique(y_train, return_counts=True)\n",
        "class_frequencies = list(zip(class_names, counts))\n",
        "print('Class frequency in training data:', class_frequencies)\n",
        "\n",
        "# Graphing the class frequency ditribution for training data\n",
        "figure = plt.figure(figsize=(10, 5))\n",
        "plt.bar(class_names,counts)\n",
        "plt.xticks(rotation=45)\n",
        "plt.title('Class Distribution for Training Data')\n",
        "plt.xlabel('Class')\n",
        "plt.ylabel('Frequency')\n",
        "\n",
        "print('\\n')\n",
        "\n",
        "# Testing Data \n",
        "print('Testing:')\n",
        "len_testing = len(x_test)\n",
        "print('Number of testing images:', len_testing)\n",
        "classes, counts = np.unique(y_test, return_counts=True)\n",
        "class_frequencies = list(zip(class_names, counts))\n",
        "print('Class frequency in testing data:', class_frequencies)\n",
        "\n",
        "# Graphing the class frequency ditribution for testing data\n",
        "figure = plt.figure(figsize=(10, 5))\n",
        "plt.bar(class_names,counts)\n",
        "plt.xticks(rotation=45)\n",
        "plt.title('Class Distribution for Testing Data')\n",
        "plt.xlabel('Class')\n",
        "plt.ylabel('Frequency')\n",
        "\n",
        "print('\\n')\n",
        "\n",
        "testing_probs = (len_testing / (len_testing + len_training)) * 100\n",
        "training_probs = (len_training / (len_testing + len_training)) * 100\n",
        "print('Training and testing split: ' + str(round(training_probs)) + '%, ' + str(round(testing_probs)) + '%')\n",
        "\n",
        "print('\\n')\n",
        "print('Graphs:')"
      ],
      "metadata": {
        "id": "eVEUuq9BCTY_",
        "colab": {
          "base_uri": "https://localhost:8080/",
          "height": 1000
        },
        "outputId": "be79a292-338e-4e32-a15a-bba18c262556"
      },
      "execution_count": 25,
      "outputs": [
        {
          "output_type": "stream",
          "name": "stdout",
          "text": [
            "The 10 target classes are: [('T-shirt/top', 0), ('Trouser', 1), ('Pullover', 2), ('Dress', 3), ('Coat', 4), ('Sandal', 5), ('Shirt', 6), ('Sneaker', 7), ('Bag', 8), ('Ankle Boot', 9)]\n",
            "\n",
            "\n",
            "Traing:\n",
            "Number of training images: 60000\n",
            "Class frequency in training data: [('T-shirt/top', 6000), ('Trouser', 6000), ('Pullover', 6000), ('Dress', 6000), ('Coat', 6000), ('Sandal', 6000), ('Shirt', 6000), ('Sneaker', 6000), ('Bag', 6000), ('Ankle Boot', 6000)]\n",
            "\n",
            "\n",
            "Testing:\n",
            "Number of testing images: 10000\n",
            "Class frequency in testing data: [('T-shirt/top', 1000), ('Trouser', 1000), ('Pullover', 1000), ('Dress', 1000), ('Coat', 1000), ('Sandal', 1000), ('Shirt', 1000), ('Sneaker', 1000), ('Bag', 1000), ('Ankle Boot', 1000)]\n",
            "\n",
            "\n",
            "Training and testing split: 86%, 14%\n",
            "\n",
            "\n",
            "Graphs:\n"
          ]
        },
        {
          "output_type": "display_data",
          "data": {
            "text/plain": [
              "<Figure size 720x360 with 1 Axes>"
            ],
            "image/png": "[encoded data removed]"
          },
          "metadata": {
            "needs_background": "light"
          }
        },
        {
          "output_type": "display_data",
          "data": {
            "text/plain": [
              "<Figure size 720x360 with 1 Axes>"
            ],
            "image/png": "[encoded data removed]"
          },
          "metadata": {
            "needs_background": "light"
          }
        }
      ]
    },
    {
      "cell_type": "code",
      "source": [
        "def load_data():# Normalize the data (we want values between 0 and 1)\n",
        "  # Acquire the data\n",
        "  fashion_mnist = tf.keras.datasets.fashion_mnist\n",
        "  (x_train, y_train), (x_test, y_test) = fashion_mnist.load_data()\n",
        "  x_train, x_test = x_train / 255.0, x_test / 255.0\n",
        "\n",
        "  # Reshape data (transform 2d image into 1d vector)\n",
        "  x_train, x_test = x_train.reshape((x_train.shape[0], x_train.shape[1] * x_train.shape[1])), x_test.reshape((x_test.shape[0], x_test.shape[1] * x_test.shape[1]))\n",
        "\n",
        "  ##### ONE-HOT ENCODE Y_TRAIN and Y_TEST #####\n",
        "\n",
        "  # Categorically encode the labels (like one-hot encoding)\n",
        "  y_train, y_test = to_categorical(y_train), to_categorical(y_test)\n",
        "  return x_train, y_train, x_test, y_test"
      ],
      "metadata": {
        "id": "2GhnbiVA1WGS"
      },
      "execution_count": 26,
      "outputs": []
    },
    {
      "cell_type": "code",
      "source": [
        "x_train, y_train, x_test, y_test = load_data()"
      ],
      "metadata": {
        "id": "Zuhwzg6V0E7X"
      },
      "execution_count": 27,
      "outputs": []
    },
    {
      "cell_type": "markdown",
      "source": [
        "## Task 2: Implement a Multilayer Perceptron\n",
        "\n",
        "In this mini-project, you will implement a multilayer perceptron (MLP) to classify image data. An MLP is composed of three types of layers: (1) an input layer, (2) hidden layers, (3) an output layer (see Figure 1). You should implement it from scratch based on the code available in the slides. Your implementation should include the backpropagation and the mini-batch gradient descent algorithm used (e.g., SGD).\n",
        "\n",
        "You are free to implement the MLP as you see fit, but you should follow the equations that are presented in the lecture slides, and you must implement it from scratch (i.e., you cannot use TensorFlow or PyTorch or any other library). Using the Numpy package is encouraged. Regarding the implementation, we recommend the following approach:\n",
        "* Implement the MLP as a python class. The constructor for the class should take as input the activation function (e.g., ReLU), the number of hidden layers (e.g., 2) and the number of units in the hidden layers (e.g., [64, 64]) and it should initialize the weights and biases (with an initializer of your choice) as well as other important properties of the MLP.\n",
        "* The class should have (at least) two functions:\n",
        "    * A fit function, which takes the training data (i.e., X and y)—as well as other hyperparameters (e.g., the learning rate and number of gradient descent iterations)—as input. This function should train your model by modifying the model parameters.\n",
        "    * A predict function, which takes a set of input points (i.e., X) as input and outputs predictions (i.e., yˆ) for these points.\n",
        "* In addition to the model classes, you should also define a functions evaluate acc to evaluate the model accuracy. This function should take the true labels (i.e., y), and target labels (i.e., yˆ) as input, and it should output the accuracy score.\n",
        "\n",
        "You are also free to use any Python libraries you like to tune the hyper-parameters; see for example https:// scikit-learn.org/stable/modules/grid_search.html."
      ],
      "metadata": {
        "id": "ixttxU6N4lbT"
      }
    },
    {
      "cell_type": "code",
      "source": [
        "def get_next_batch(N, batch_size, epochs):\n",
        "  # N = x_train.shape[0]\n",
        "  inds = np.random.permutation(N)\n",
        "  for iter in range(epochs):\n",
        "    # print(f\"iter={iter}, i={iter * batch_size}, j={(iter+1) * batch_size}\")\n",
        "    batch_inds = inds[iter * batch_size: (iter+1) * batch_size]\n",
        "    x, y = x_train[inds[batch_inds],:], y_train[inds[batch_inds],:]\n",
        "    yield x, y\n"
      ],
      "metadata": {
        "id": "TY3wol6MGBW0"
      },
      "execution_count": 28,
      "outputs": []
    },
    {
      "cell_type": "code",
      "source": [
        "def l2_penalty(w):\n",
        "  return np.sum((w**2))/2"
      ],
      "metadata": {
        "id": "1x8-58PbY7ZS"
      },
      "execution_count": 29,
      "outputs": []
    },
    {
      "cell_type": "markdown",
      "source": [
        "### MLP"
      ],
      "metadata": {
        "id": "deQnUoJ98xxr"
      }
    },
    {
      "cell_type": "code",
      "source": [
        "logistic = lambda z: 1./ (1 + np.exp(-z))\n",
        "\n",
        "class MLP:\n",
        "    \n",
        "    def __init__(self, hidden_nodes, hidden_layers, act_func=False, drop_out=False, rate=0.5): # dropout half of the units by default\n",
        "        self.hidden_nodes = hidden_nodes\n",
        "        self.hidden_layers = hidden_layers\n",
        "        self.act_func = act_func\n",
        "        self.drop_out = drop_out\n",
        "        self.rate = rate\n",
        "\n",
        "    def softmax(self, Z):\n",
        "      # Z has shape N x C\n",
        "      Z_exp = np.exp(Z)\n",
        "      # print(Z_exp.shape)\n",
        "      partition = Z_exp.sum(1, keepdims=True)\n",
        "      output = Z_exp / partition\n",
        "      # ouput has shape N\n",
        "      return output\n",
        "\n",
        "    def fit(self, x, y, epochs, batch_size, optimizer):\n",
        "      N,D = x.shape\n",
        "      def gradient_fn(x, y, params):\n",
        "          N, D = x.shape\n",
        "          n = len(params)\n",
        "          dparams = []\n",
        "          layers = []\n",
        "          q_lst = [] # a parallel q list\n",
        "          if self.hidden_layers == 0:\n",
        "            layers.append(x) \n",
        "          else:\n",
        "            q = np.dot(x, params[0].T) # N x M\n",
        "            z = self.act_func.run(q) # N x M\n",
        "            layers.append(x) # N x D\n",
        "            q_lst.append(q) # N x M\n",
        "            layers.append(z) # N x M\n",
        "            for i in range(1, n-1):\n",
        "              q = np.dot(layers[i], params[i])\n",
        "              q_lst.append(q)\n",
        "              z = self.act_func.run(q) # i = 1,...,n-2\n",
        "              layers.append(z)\n",
        "\n",
        "          u = np.dot(layers[n-1], params[n-1].T) # N x C, z = layers[n-2], w = params[n-1], u \\in N x C\n",
        "          yh = self.softmax(u) # N x C\n",
        "          dy = yh - y #N x C\n",
        "          dw = np.dot(dy.T, layers[n-1])/N #C x M\n",
        "          dparams.append(dw)\n",
        "          for i in range(self.hidden_layers):\n",
        "            if dy.ndim == 1:\n",
        "              dz = np.outer(dy, params[n-i-1]) #N x M, -1 for indexing starting at 0\n",
        "            else:\n",
        "              dz = np.dot(dy, params[n-i-1]) #N x M\n",
        "            q = q_lst[n-i-2]\n",
        "            dv = np.dot((dz * self.act_func.run(layers[n-i-1], q=q, deriv=True)).T, layers[n-i-2])/N #M x D\n",
        "            dparams.insert(0, dv)\n",
        "            dy = dz\n",
        "          return dparams\n",
        "\n",
        "      # initialize weights\n",
        "      if self.hidden_layers == 0:\n",
        "        params0 = [np.random.randn(y.shape[1], x.shape[1]) * .01] # C x D\n",
        "      else:\n",
        "        params0 = []\n",
        "        params0.append(np.random.randn(self.hidden_nodes, D) * .01) # V \\in R^M x D\n",
        "        for i in range(1, self.hidden_layers): \n",
        "          params0.append(np.random.randn(self.hidden_nodes, self.hidden_nodes) * .01) # M x M\n",
        "        params0.append(np.random.randn(y.shape[1], self.hidden_nodes) * .01) # W \\in R^C x M\n",
        "\n",
        "      if self.drop_out:\n",
        "        permuted_nodes = np.random.permutation(self.hidden_nodes) # randomly permute hidden nodes\n",
        "        nodes_to_slice = self.rate * self.hidden_nodes\n",
        "        dropped = permuted_nodes[int(nodes_to_slice):]\n",
        "        self.hidden_nodes = dropped\n",
        "      \n",
        "      self.params = optimizer.run(gradient_fn, x, y, params0)\n",
        "      \n",
        "      return self\n",
        "    \n",
        "    def predict(self, x):\n",
        "      if self.hidden_layers == 0:\n",
        "        z = self.act_func.run(np.dot(x, self.params[0].T))\n",
        "      else:\n",
        "        z = self.act_func.run(np.dot(x, self.params[0].T))\n",
        "        for i in range(1, len(self.params)-1):\n",
        "          z = self.act_func.run(np.dot(z, self.params[i]))\n",
        "        z = np.dot(z, self.params[len(self.params)-1].T)\n",
        "      yh = self.softmax(z)\n",
        "      return np.argmax(yh, 1) # softmax returns the probability matrix \n",
        "\n",
        "    # misclassification rate\n",
        "    def evaluation(self, y_pred, y):\n",
        "      return round(np.sum(y_pred == y.argmax(1)) / len(y), 2)\n"
      ],
      "metadata": {
        "id": "KU-Fj3qLoTn9"
      },
      "execution_count": 30,
      "outputs": []
    },
    {
      "cell_type": "markdown",
      "source": [
        "### Gradiant Descent"
      ],
      "metadata": {
        "id": "A2PdxAaUBKI3"
      }
    },
    {
      "cell_type": "code",
      "source": [
        "class GradientDescent:\n",
        "    \n",
        "    def __init__(self, epochs, batch_size, data_size, learning_rate=.001, max_iters=1e4, epsilon=1e-8):\n",
        "        self.learning_rate = learning_rate\n",
        "        self.max_iters = max_iters\n",
        "        self.epsilon = epsilon\n",
        "        self.epochs = epochs\n",
        "        self.batch_size = batch_size\n",
        "        self.data_size = data_size\n",
        "        \n",
        "    def run(self, optimizer, x, y, params): # use data_size as batch size\n",
        "      for epoch in range(epochs):\n",
        "        norms = np.array([np.inf])\n",
        "        t = 1\n",
        "        print(f\"Epoch={epoch}.\")\n",
        "        while np.any(norms > self.epsilon) and t < self.max_iters:\n",
        "          grads = optimizer(x, y, params)\n",
        "          # print(grads)\n",
        "          for p in range(len(params)):\n",
        "            params[p] -= self.learning_rate * grads[p]\n",
        "          t += 1\n",
        "          norms = np.array([np.linalg.norm(g) for g in grads])\n",
        "      return params"
      ],
      "metadata": {
        "id": "div12z-Iy2_T"
      },
      "execution_count": 31,
      "outputs": []
    },
    {
      "cell_type": "code",
      "source": [
        "class StochasticGradientDescent(GradientDescent):\n",
        "        \n",
        "    def run(self, optimizer, x, y, params):\n",
        "        batch_gen = get_next_batch(self.data_size, self.batch_size, self.epochs)\n",
        "        for epoch in range(self.epochs):# get random mini batch\n",
        "            x, y = next(batch_gen)\n",
        "            print(f\"Epoch={epoch}, Batch_size={x.shape[0]}.\")\n",
        "            norms = np.array([np.inf])\n",
        "            t = 1\n",
        "            while np.any(norms > self.epsilon) and t < self.max_iters:\n",
        "                grads = optimizer(x, y, params) # calculate gradients of the sampled batch\n",
        "                # print(grads)\n",
        "                for p in range(len(params)):\n",
        "                  # mean_grad ?\n",
        "                  params[p] -= self.learning_rate * grads[p] # update weights based on the sampled batch\n",
        "                t += 1\n",
        "                norms = np.array([np.linalg.norm(g) for g in grads])\n",
        "        return params"
      ],
      "metadata": {
        "id": "VNZq9d26RQnI"
      },
      "execution_count": 32,
      "outputs": []
    },
    {
      "cell_type": "markdown",
      "source": [
        "### Activation function"
      ],
      "metadata": {
        "id": "k2fWENyuBOZ4"
      }
    },
    {
      "cell_type": "code",
      "source": [
        "class ActivationFunctions:\n",
        "\n",
        "  def __init__(self, fun=\"ReLU\", upsilon=0.01):\n",
        "    self.fun = fun\n",
        "    self.upsilon = upsilon\n",
        "\n",
        "  def run(self, Z, q=None, deriv=False):\n",
        "    if self.fun == \"ReLU\" and deriv:\n",
        "      output = q > 0\n",
        "      output = output.astype(np.int8)\n",
        "\n",
        "    elif self.fun == \"ReLU\" and deriv == False:\n",
        "      output = np.maximum(0, Z)\n",
        "\n",
        "    elif self.fun == \"leaky_ReLU\" and deriv: \n",
        "      a1 = np.full_like(q, 1.0)\n",
        "      a2 = np.full_like(q, self.upsilon)\n",
        "      output = np.where((q >= 0), a1, a2)\n",
        "\n",
        "    elif self.fun == \"leaky_ReLU\" and deriv == False:\n",
        "      output = np.maximum(0, Z) + self.upsilon * np.minimum(0, Z)\n",
        "\n",
        "    elif self.fun == \"Softplus\" and deriv:\n",
        "      output = 1 / (1 + np.exp(-Z))\n",
        "\n",
        "    elif self.fun == \"Softplus\" and deriv == False:\n",
        "      output = np.log(1 + np.exp(Z))\n",
        "\n",
        "    elif self.fun == \"identity\" and deriv:\n",
        "      output = 1\n",
        "\n",
        "    elif self.fun == \"identity\" and deriv == False:\n",
        "      output = Z\n",
        "\n",
        "    elif self.fun == \"sigmoid\" and deriv:\n",
        "      output = Z * (1 - Z)\n",
        "\n",
        "    elif self.fun == \"sigmoid\" and deriv == False:\n",
        "      output = 1 / (1 + np.exp(-Z))\n",
        "    \n",
        "    elif self.fun == \"tanh\" and deriv:\n",
        "      output = 1 - np.square(np.tanh(q))\n",
        "\n",
        "    elif self.fun == \"tanh\" and deriv == False:\n",
        "       output = (np.exp(Z) - np.exp(-Z))/ (np.exp(Z) + np.exp(-Z))\n",
        "\n",
        "    else:\n",
        "      print(f'No such activation function. ')\n",
        "      return None\n",
        "\n",
        "    return output"
      ],
      "metadata": {
        "id": "K7DlBBl8zTT7"
      },
      "execution_count": 33,
      "outputs": []
    },
    {
      "cell_type": "code",
      "source": [
        "epochs = 5\n",
        "batch_size=2000\n",
        "data_size, input_nodes = x_train.shape\n",
        "\n",
        "hidden_nodes = 128\n",
        "output_nodes = np.max(y_train)+1\n",
        "max_iters = 100\n",
        "lr = .01\n",
        "optimizer = StochasticGradientDescent(epochs=epochs, batch_size=batch_size, data_size=data_size, learning_rate=lr, max_iters=max_iters)\n",
        "act_func = ActivationFunctions('ReLU')\n",
        "\n",
        "mlp = MLP(hidden_nodes, hidden_layers=0, act_func=act_func)\n",
        "mlp_pred = mlp.fit(x_train, y_train, epochs, batch_size, optimizer).predict(x_test) \n",
        "\n",
        "filename = 'fitted_model.sav'\n",
        "pickle.dump(mlp, open(filename, 'wb'))\n"
      ],
      "metadata": {
        "id": "WaK56Odry2EZ",
        "colab": {
          "base_uri": "https://localhost:8080/"
        },
        "outputId": "2043d233-9d11-4c45-c3c6-5b02e59f9db8"
      },
      "execution_count": 34,
      "outputs": [
        {
          "output_type": "stream",
          "name": "stdout",
          "text": [
            "Epoch=0, Batch_size=2000.\n",
            "Epoch=1, Batch_size=2000.\n",
            "Epoch=2, Batch_size=2000.\n",
            "Epoch=3, Batch_size=2000.\n",
            "Epoch=4, Batch_size=2000.\n"
          ]
        }
      ]
    },
    {
      "cell_type": "code",
      "source": [
        "fitted_model = pickle.load(open(filename, 'rb'))\n",
        "yh = fitted_model.predict(x_test) \n",
        "mlp_acc = mlp.evaluation(mlp_pred, y_test)\n",
        "print(mlp_acc)"
      ],
      "metadata": {
        "colab": {
          "base_uri": "https://localhost:8080/"
        },
        "id": "HLTMh8ruGTzu",
        "outputId": "65a678b2-048b-4bb7-f034-019ef887bf18"
      },
      "execution_count": 35,
      "outputs": [
        {
          "output_type": "stream",
          "name": "stdout",
          "text": [
            "0.72\n"
          ]
        }
      ]
    },
    {
      "cell_type": "markdown",
      "source": [
        "## Task 3: Run the experiments and report"
      ],
      "metadata": {
        "id": "Ykx4E_pd5lQt"
      }
    },
    {
      "cell_type": "markdown",
      "source": [
        "The goal of the experiments in this part is to have you explore the consequences of important decisions made while training neural networks. Split the dataset into training and test sets. Use test set to estimate performance in all of the experiments after training the model with training set. Evaluate the performance using accuracy. You are welcome to perform any experiments and analyses you see fit (e.g., the effect of data augmentation / L1-L2 regularization / number of hidden layers / . . . on accuracy), but at a minimum you must complete the following experiments in the order stated below:\n",
        "1. First of all, create three different models: (1) an MLP with no hidden layers, i.e., it directly maps the inputs to outputs, (2) an MLP with a single hidden layer having 128 units and ReLU activations, (3) an MLP with 2 hidden layers each having 128 units with ReLU activations. It should be noted that since we want to perform classification, all of these models should have a softmax layer at the end. After training, compare the test accuracy of these three models on the Fashion-MNIST dataset. Comment on how non-linearity and network depth affects the accuracy. Are the results that you obtain expected?\n",
        "2. Take the last model above, the one with 2 hidden layers, and create two different copies of it in which the activations are now tanh and Leaky-ReLU. After training these two models compare their test accuracies with model having ReLU activations. Comment on the performances of these models: which one is better and why? Are certain activations better than others? If the results are not as you expected, what could be the reason?\n",
        "3. Create an MLP with 2 hidden layers each having 128 units with ReLU activations as above. However, this time, add dropout regularization to the network and train the MLP in this way. How does this affect the accuracy? This proportion can be varied as a tunable hyperparameter that can be explored as part of other project requirements.\n",
        "4. Create an MLP with 2 hidden layers each having 128 units with ReLU activations as above. However, this time, train it with unnormalized images. How does this affect the accuracy?\n",
        "5. Using existing libraries such as TensorFlow or PyTorch, create a convolutional neural network (CNN) with 2 convolutional and 2 fully connected layers. Although you are free in your choice of the hyperparameters of the convolutional layers, set the number of units in the fully connected layers to be 128. Also, set the activations in all of the layers to be ReLU. Train this CNN on the Fashion-MNIST dataset. Does using a CNN increase/decrease the accuracy compared to using MLPs? Provide comments on your results.\n",
        "6. Using your MLP implementation, try to come up with an MLP architecture that performs as good as possible. How does this MLP perform compared to the CNN in part 5? Justify your choice of network architecture parameters through careful experiments.\n",
        "7. You can report your findings either in the form of a table or a plot in the write-up. However, include in your colab notebooks the plots of the test and train performance of the MLPs/CNN as a function of training epochs. This will allow you to see how much the network should be trained before it starts to overfit to the training data.\n",
        "\n",
        "Note 1: The above experiments are the minimum requirements that you must complete; however, this project is open-ended.\n",
        "\n",
        "For example, you might investigate the effect of the width (number of units in the hidden layers) of the MLP on its test accuracy or the effect of the CNN’s convolutinal layer hyperparameters (number of filters, kernel size, stride, padding, . . . ) on its test accuracy. It is also possible to examine the effect of different dropout node proportions on the final performance. Another interesting thing to report might be training the MLP and CNN with 10k , k ∈ {0, 1, 2, 3, 4} images and plotting the test accuracy. You do not need to do all of these things or tune every parameter, but you should demonstrate creativity, rigour, and an understanding of the course material in how you run your chosen experiments and how you report on them in your write-up.\n",
        "\n",
        "Note 2: We expect you to provide plots/tables in your report that justifies your choice of hyperparameters (the learning rates of the MLPs/CNNs in parts 1-6, the architectural parameters of the MLPs/CNNs in parts 5 & 6). You are not required to perform cross-validation in this project."
      ],
      "metadata": {
        "id": "I8Gd_FOB5L0m"
      }
    },
    {
      "cell_type": "markdown",
      "source": [
        "#### 3.1 MLP with no hidden layer v.s. MLP with one hidden layer v.s. MLP with 2 hidden layers "
      ],
      "metadata": {
        "id": "DWQZB4ip74Ag"
      }
    },
    {
      "cell_type": "code",
      "source": [
        "#############HYPER PARAMETERS########\n",
        "epochs=5\n",
        "batch_size=100\n",
        "data_size, input_nodes = x_train.shape\n",
        "\n",
        "hidden_nodes = 128\n",
        "output_nodes = np.max(y_train)+1\n",
        "max_iters = 100\n",
        "lr = .01\n",
        "\n",
        "#############TESTING HIDDEN LAYERS ########\n",
        "\n",
        "hidden_layers = [0, 1, 2]\n",
        "accuracy_zero = [] \n",
        "accuracy_one = [] \n",
        "accuracy_two = []\n",
        "\n",
        "optimizer = StochasticGradientDescent(epochs=epochs, batch_size=batch_size, data_size=data_size, learning_rate=0.01, max_iters=max_iters)\n",
        "act_func = ActivationFunctions('ReLU')\n",
        "\n",
        "zero_mlp = MLP(hidden_nodes, hidden_layers=0, act_func=act_func)\n",
        "zero_mlp_pred = mlp.fit(x_train, y_train, epochs=epochs, batch_size=batch_size, optimizer=optimizer).predict(x_test)\n",
        "zero_mlp_acc = mlp.evaluation(y_pred=zero_mlp_pred,y=y_test)\n",
        "accuracy_zero.append(zero_mlp_acc)\n",
        "\n",
        "\n",
        "one_mlp = MLP(hidden_nodes, hidden_layers=1, act_func=act_func)\n",
        "one_mlp_pred = mlp.fit(x_train, y_train, epochs=epochs, batch_size=batch_size, optimizer=optimizer).predict(x_test)\n",
        "one_mlp_acc = mlp.evaluation(y_pred=one_mlp_pred,y=y_test)\n",
        "accuracy_one.append(one_mlp_acc)\n",
        "\n",
        "two_mlp = MLP(hidden_nodes, hidden_layers=2, act_func=act_func)\n",
        "two_mlp_pred = mlp.fit(x_train, y_train, epochs=epochs, batch_size=batch_size, optimizer=optimizer).predict(x_test)\n",
        "two_mlp_acc = mlp.evaluation(y_pred=two_mlp_pred,y=y_test)\n",
        "accuracy_two.append(two_mlp_acc)\n",
        "\n",
        "print(\"Accuracy score: \" + str(f\"Zero-layer-MLP:{zero_mlp_acc},  One-layer-MLP: {one_mlp_acc},  Two-layer-MLP: {two_mlp_acc}.\"))\n",
        "\n",
        "data = {'Zero-layer':accuracy_zero[0], 'One-layer':accuracy_one[0], 'Two_layer':accuracy_two[0]}\n",
        "layers = list(data.keys())\n",
        "acc = list(data.values())\n",
        "  \n",
        "fig = plt.figure(figsize = (10, 5))\n",
        "\n",
        "X_axis = np.arange(len(hidden_layers))\n",
        "\n",
        "plt.plot(X_axis, acc, 0.8, marker='x')\n",
        "plt.xticks(X_axis, hidden_layers)\n",
        " \n",
        "plt.xlabel('Hidden Layers')\n",
        "plt.ylabel('Accuracy')\n",
        "plt.title('Effect of Hidden Layers on Model Accuracy')\n",
        "plt.show()"
      ],
      "metadata": {
        "id": "vdHmFPfgkqjK",
        "colab": {
          "base_uri": "https://localhost:8080/",
          "height": 645
        },
        "outputId": "270eaa4a-56df-4214-c802-3c0cb0004de3"
      },
      "execution_count": 39,
      "outputs": [
        {
          "output_type": "stream",
          "name": "stdout",
          "text": [
            "Epoch=0, Batch_size=100.\n",
            "Epoch=1, Batch_size=100.\n",
            "Epoch=2, Batch_size=100.\n",
            "Epoch=3, Batch_size=100.\n",
            "Epoch=4, Batch_size=100.\n",
            "Epoch=0, Batch_size=100.\n",
            "Epoch=1, Batch_size=100.\n",
            "Epoch=2, Batch_size=100.\n",
            "Epoch=3, Batch_size=100.\n",
            "Epoch=4, Batch_size=100.\n",
            "Epoch=0, Batch_size=100.\n",
            "Epoch=1, Batch_size=100.\n",
            "Epoch=2, Batch_size=100.\n",
            "Epoch=3, Batch_size=100.\n",
            "Epoch=4, Batch_size=100.\n",
            "Accuracy score: Zero-layer-MLP:0.68,  One-layer-MLP: 0.68,  Two-layer-MLP: 0.71.\n"
          ]
        },
        {
          "output_type": "display_data",
          "data": {
            "text/plain": [
              "<Figure size 720x360 with 1 Axes>"
            ],
            "image/png": "[encoded data removed]"
          },
          "metadata": {
            "needs_background": "light"
          }
        }
      ]
    },
    {
      "cell_type": "code",
      "source": [
        "#### CHANGING LEARNING RATE ####\n",
        "lr_list = [0.1, 0.01, 0.001, 0.0001, 0.00001]\n",
        "accuracy_zero = [] \n",
        "accuracy_one = [] \n",
        "accuracy_two = []\n",
        "\n",
        "for i in range(len(lr_list)):\n",
        "  optimizer = StochasticGradientDescent(epochs=epochs, batch_size=batch_size, data_size=data_size, learning_rate=lr_list[i], max_iters=max_iters)\n",
        "  act_func = ActivationFunctions('ReLU')\n",
        "\n",
        "  zero_mlp = MLP(hidden_nodes, hidden_layers=0, act_func=act_func)\n",
        "  zero_mlp_pred = mlp.fit(x_train, y_train, epochs=epochs, batch_size=batch_size, optimizer=optimizer).predict(x_test)\n",
        "  zero_mlp_acc = mlp.evaluation(y_pred=zero_mlp_pred,y=y_test)\n",
        "  accuracy_zero.append(zero_mlp_acc)\n",
        "\n",
        "\n",
        "  one_mlp = MLP(hidden_nodes, hidden_layers=1, act_func=act_func)\n",
        "  one_mlp_pred = mlp.fit(x_train, y_train, epochs=epochs, batch_size=batch_size, optimizer=optimizer).predict(x_test)\n",
        "  one_mlp_acc = mlp.evaluation(y_pred=one_mlp_pred,y=y_test)\n",
        "  accuracy_one.append(one_mlp_acc)\n",
        "\n",
        "  two_mlp = MLP(hidden_nodes, hidden_layers=2, act_func=act_func)\n",
        "  two_mlp_pred = mlp.fit(x_train, y_train, epochs=epochs, batch_size=batch_size, optimizer=optimizer).predict(x_test)\n",
        "  two_mlp_acc = mlp.evaluation(y_pred=two_mlp_pred,y=y_test)\n",
        "  accuracy_two.append(two_mlp_acc)\n",
        "\n",
        "  print(\"Learning rate of \" + str(lr_list[i]) + \": \" + str(f\"Zero-layer-MLP:{zero_mlp_acc},  One-layer-MLP: {one_mlp_acc},  Two-layer-MLP: {two_mlp_acc}.\"))\n",
        "\n",
        "plt.plot(lr_list, accuracy_zero, label = \"Zero-layer\")\n",
        "plt.plot(lr_list, accuracy_one, label = \"One-layer\")\n",
        "plt.plot(lr_list, accuracy_two, label = \"Two-layer\")\n",
        "plt.title('Effect of learning rate on model accuracy')\n",
        "plt.xlabel('Learning Rate')\n",
        "plt.ylabel('Accuracy')\n",
        "plt.legend()\n",
        "plt.show()\n",
        "\n",
        "#### CHANGING NUMBER OF EPOCHS ####\n",
        "epochs_list = [1, 5, 10, 50, 100]\n",
        "accuracy_zero = [] \n",
        "accuracy_one = [] \n",
        "accuracy_two = []\n",
        "\n",
        "for i in range(len(epochs_list)):\n",
        "  optimizer = StochasticGradientDescent(epochs=epochs_list[i], batch_size=batch_size, data_size=data_size, learning_rate=lr, max_iters=max_iters)\n",
        "  act_func = ActivationFunctions('ReLU')\n",
        "\n",
        "  zero_mlp = MLP(hidden_nodes, hidden_layers=0, act_func=act_func)\n",
        "  zero_mlp_pred = mlp.fit(x_train, y_train, epochs=epochs_list[i], batch_size=batch_size, optimizer=optimizer).predict(x_test)\n",
        "  zero_mlp_acc = mlp.evaluation(y_pred=zero_mlp_pred,y=y_test)\n",
        "  accuracy_zero.append(zero_mlp_acc)\n",
        "\n",
        "\n",
        "  one_mlp = MLP(hidden_nodes, hidden_layers=1, act_func=act_func)\n",
        "  one_mlp_pred = mlp.fit(x_train, y_train, epochs=epochs_list[i], batch_size=batch_size, optimizer=optimizer).predict(x_test)\n",
        "  one_mlp_acc = mlp.evaluation(y_pred=one_mlp_pred,y=y_test)\n",
        "  accuracy_one.append(one_mlp_acc)\n",
        "\n",
        "  two_mlp = MLP(hidden_nodes, hidden_layers=2, act_func=act_func)\n",
        "  two_mlp_pred = mlp.fit(x_train, y_train, epochs=epochs_list[i], batch_size=batch_size, optimizer=optimizer).predict(x_test)\n",
        "  two_mlp_acc = mlp.evaluation(y_pred=two_mlp_pred,y=y_test)\n",
        "  accuracy_two.append(two_mlp_acc)\n",
        "\n",
        "  print(\"Epochs size \" + str(epochs_list[i]) + \": \" + str(f\"Zero-layer-MLP:{zero_mlp_acc},  One-layer-MLP: {one_mlp_acc},  Two-layer-MLP: {two_mlp_acc}.\"))\n",
        "\n",
        "plt.plot(epochs_list, accuracy_zero, label = \"Zero-layer\")\n",
        "plt.plot(epochs_list, accuracy_one, label = \"One-layer\")\n",
        "plt.plot(epochs_list, accuracy_two, label = \"Two-layer\")\n",
        "plt.title('Effect of epochs on model accuracy')\n",
        "plt.xlabel('Epochs')\n",
        "plt.ylabel('Accuracy')\n",
        "plt.legend()\n",
        "plt.show()\n",
        "\n",
        "#### CHANGING BATCH SIZE ####\n",
        "batch_size_list = [0, 10, 100, 1000, 10000]\n",
        "accuracy_zero = [] \n",
        "accuracy_one = [] \n",
        "accuracy_two = [] \n",
        "\n",
        "for i in range(len(batch_size_list)):\n",
        "  optimizer = StochasticGradientDescent(epochs=epochs, batch_size=batch_size_list[i], data_size=data_size, learning_rate=lr, max_iters=max_iters)\n",
        "  act_func = ActivationFunctions('ReLU')\n",
        "\n",
        "  zero_mlp = MLP(hidden_nodes, hidden_layers=0, act_func=act_func)\n",
        "  zero_mlp_pred = mlp.fit(x_train, y_train, epochs=epochs, batch_size=batch_size_list[i], optimizer=optimizer).predict(x_test)\n",
        "  zero_mlp_acc = mlp.evaluation(y_pred=zero_mlp_pred,y=y_test)\n",
        "  accuracy_zero.append(zero_mlp_acc)\n",
        "\n",
        "  one_mlp = MLP(hidden_nodes, hidden_layers=1, act_func=act_func)\n",
        "  one_mlp_pred = mlp.fit(x_train, y_train, epochs=epochs, batch_size=batch_size_list[i], optimizer=optimizer).predict(x_test)\n",
        "  one_mlp_acc = mlp.evaluation(y_pred=one_mlp_pred,y=y_test)\n",
        "  accuracy_one.append(one_mlp_acc)\n",
        "\n",
        "  two_mlp = MLP(hidden_nodes, hidden_layers=2, act_func=act_func)\n",
        "  two_mlp_pred = mlp.fit(x_train, y_train, epochs=epochs, batch_size=batch_size_list[i], optimizer=optimizer).predict(x_test)\n",
        "  two_mlp_acc = mlp.evaluation(y_pred=two_mlp_pred,y=y_test)\n",
        "  accuracy_two.append(two_mlp_acc)\n",
        "\n",
        "  print(\"Batch size of \" + str(batch_size_list[i]) + \": \" + str(f\"Zero-layer-MLP:{zero_mlp_acc},  One-layer-MLP: {one_mlp_acc},  Two-layer-MLP: {two_mlp_acc}.\"))\n",
        "\n",
        "plt.plot(batch_size_list, accuracy_zero, label = \"Zero-layer\")\n",
        "plt.plot(batch_size_list, accuracy_one, label = \"One-layer\")\n",
        "plt.plot(batch_size_list, accuracy_two, label = \"Two-layer\")\n",
        "plt.title('Effect of batch size on model accuracy')\n",
        "plt.xlabel('Batch Size')\n",
        "plt.ylabel('Accuracy')\n",
        "plt.legend()\n",
        "plt.show()\n"
      ],
      "metadata": {
        "id": "zkOX_BdFBUR9",
        "colab": {
          "base_uri": "https://localhost:8080/",
          "height": 1000
        },
        "outputId": "2004263d-ba33-4530-b2f8-9156c7b349a9"
      },
      "execution_count": 40,
      "outputs": [
        {
          "output_type": "stream",
          "name": "stdout",
          "text": [
            "Epoch=0, Batch_size=100.\n",
            "Epoch=1, Batch_size=100.\n",
            "Epoch=2, Batch_size=100.\n",
            "Epoch=3, Batch_size=100.\n",
            "Epoch=4, Batch_size=100.\n",
            "Epoch=0, Batch_size=100.\n",
            "Epoch=1, Batch_size=100.\n",
            "Epoch=2, Batch_size=100.\n",
            "Epoch=3, Batch_size=100.\n",
            "Epoch=4, Batch_size=100.\n",
            "Epoch=0, Batch_size=100.\n",
            "Epoch=1, Batch_size=100.\n",
            "Epoch=2, Batch_size=100.\n",
            "Epoch=3, Batch_size=100.\n",
            "Epoch=4, Batch_size=100.\n",
            "Learning rate of 0.1: Zero-layer-MLP:0.73,  One-layer-MLP: 0.72,  Two-layer-MLP: 0.75.\n",
            "Epoch=0, Batch_size=100.\n",
            "Epoch=1, Batch_size=100.\n",
            "Epoch=2, Batch_size=100.\n",
            "Epoch=3, Batch_size=100.\n",
            "Epoch=4, Batch_size=100.\n",
            "Epoch=0, Batch_size=100.\n",
            "Epoch=1, Batch_size=100.\n",
            "Epoch=2, Batch_size=100.\n",
            "Epoch=3, Batch_size=100.\n",
            "Epoch=4, Batch_size=100.\n",
            "Epoch=0, Batch_size=100.\n",
            "Epoch=1, Batch_size=100.\n",
            "Epoch=2, Batch_size=100.\n",
            "Epoch=3, Batch_size=100.\n",
            "Epoch=4, Batch_size=100.\n",
            "Learning rate of 0.01: Zero-layer-MLP:0.7,  One-layer-MLP: 0.69,  Two-layer-MLP: 0.68.\n",
            "Epoch=0, Batch_size=100.\n",
            "Epoch=1, Batch_size=100.\n",
            "Epoch=2, Batch_size=100.\n",
            "Epoch=3, Batch_size=100.\n",
            "Epoch=4, Batch_size=100.\n",
            "Epoch=0, Batch_size=100.\n",
            "Epoch=1, Batch_size=100.\n",
            "Epoch=2, Batch_size=100.\n",
            "Epoch=3, Batch_size=100.\n",
            "Epoch=4, Batch_size=100.\n",
            "Epoch=0, Batch_size=100.\n",
            "Epoch=1, Batch_size=100.\n",
            "Epoch=2, Batch_size=100.\n",
            "Epoch=3, Batch_size=100.\n",
            "Epoch=4, Batch_size=100.\n",
            "Learning rate of 0.001: Zero-layer-MLP:0.53,  One-layer-MLP: 0.61,  Two-layer-MLP: 0.51.\n",
            "Epoch=0, Batch_size=100.\n",
            "Epoch=1, Batch_size=100.\n",
            "Epoch=2, Batch_size=100.\n",
            "Epoch=3, Batch_size=100.\n",
            "Epoch=4, Batch_size=100.\n",
            "Epoch=0, Batch_size=100.\n",
            "Epoch=1, Batch_size=100.\n",
            "Epoch=2, Batch_size=100.\n",
            "Epoch=3, Batch_size=100.\n",
            "Epoch=4, Batch_size=100.\n",
            "Epoch=0, Batch_size=100.\n",
            "Epoch=1, Batch_size=100.\n",
            "Epoch=2, Batch_size=100.\n",
            "Epoch=3, Batch_size=100.\n",
            "Epoch=4, Batch_size=100.\n",
            "Learning rate of 0.0001: Zero-layer-MLP:0.36,  One-layer-MLP: 0.24,  Two-layer-MLP: 0.38.\n",
            "Epoch=0, Batch_size=100.\n",
            "Epoch=1, Batch_size=100.\n",
            "Epoch=2, Batch_size=100.\n",
            "Epoch=3, Batch_size=100.\n",
            "Epoch=4, Batch_size=100.\n",
            "Epoch=0, Batch_size=100.\n",
            "Epoch=1, Batch_size=100.\n",
            "Epoch=2, Batch_size=100.\n",
            "Epoch=3, Batch_size=100.\n",
            "Epoch=4, Batch_size=100.\n",
            "Epoch=0, Batch_size=100.\n",
            "Epoch=1, Batch_size=100.\n",
            "Epoch=2, Batch_size=100.\n",
            "Epoch=3, Batch_size=100.\n",
            "Epoch=4, Batch_size=100.\n",
            "Learning rate of 1e-05: Zero-layer-MLP:0.1,  One-layer-MLP: 0.1,  Two-layer-MLP: 0.16.\n"
          ]
        },
        {
          "output_type": "display_data",
          "data": {
            "text/plain": [
              "<Figure size 432x288 with 1 Axes>"
            ],
            "image/png": "[encoded data removed]"
          },
          "metadata": {
            "needs_background": "light"
          }
        },
        {
          "output_type": "stream",
          "name": "stdout",
          "text": [
            "Epoch=0, Batch_size=100.\n",
            "Epoch=0, Batch_size=100.\n",
            "Epoch=0, Batch_size=100.\n",
            "Epochs size 1: Zero-layer-MLP:0.55,  One-layer-MLP: 0.51,  Two-layer-MLP: 0.58.\n",
            "Epoch=0, Batch_size=100.\n",
            "Epoch=1, Batch_size=100.\n",
            "Epoch=2, Batch_size=100.\n",
            "Epoch=3, Batch_size=100.\n",
            "Epoch=4, Batch_size=100.\n",
            "Epoch=0, Batch_size=100.\n",
            "Epoch=1, Batch_size=100.\n",
            "Epoch=2, Batch_size=100.\n",
            "Epoch=3, Batch_size=100.\n",
            "Epoch=4, Batch_size=100.\n",
            "Epoch=0, Batch_size=100.\n",
            "Epoch=1, Batch_size=100.\n",
            "Epoch=2, Batch_size=100.\n",
            "Epoch=3, Batch_size=100.\n",
            "Epoch=4, Batch_size=100.\n",
            "Epochs size 5: Zero-layer-MLP:0.68,  One-layer-MLP: 0.72,  Two-layer-MLP: 0.7.\n",
            "Epoch=0, Batch_size=100.\n",
            "Epoch=1, Batch_size=100.\n",
            "Epoch=2, Batch_size=100.\n",
            "Epoch=3, Batch_size=100.\n",
            "Epoch=4, Batch_size=100.\n",
            "Epoch=5, Batch_size=100.\n",
            "Epoch=6, Batch_size=100.\n",
            "Epoch=7, Batch_size=100.\n",
            "Epoch=8, Batch_size=100.\n",
            "Epoch=9, Batch_size=100.\n",
            "Epoch=0, Batch_size=100.\n",
            "Epoch=1, Batch_size=100.\n",
            "Epoch=2, Batch_size=100.\n",
            "Epoch=3, Batch_size=100.\n",
            "Epoch=4, Batch_size=100.\n",
            "Epoch=5, Batch_size=100.\n",
            "Epoch=6, Batch_size=100.\n",
            "Epoch=7, Batch_size=100.\n",
            "Epoch=8, Batch_size=100.\n",
            "Epoch=9, Batch_size=100.\n",
            "Epoch=0, Batch_size=100.\n",
            "Epoch=1, Batch_size=100.\n",
            "Epoch=2, Batch_size=100.\n",
            "Epoch=3, Batch_size=100.\n",
            "Epoch=4, Batch_size=100.\n",
            "Epoch=5, Batch_size=100.\n",
            "Epoch=6, Batch_size=100.\n",
            "Epoch=7, Batch_size=100.\n",
            "Epoch=8, Batch_size=100.\n",
            "Epoch=9, Batch_size=100.\n",
            "Epochs size 10: Zero-layer-MLP:0.72,  One-layer-MLP: 0.73,  Two-layer-MLP: 0.71.\n",
            "Epoch=0, Batch_size=100.\n",
            "Epoch=1, Batch_size=100.\n",
            "Epoch=2, Batch_size=100.\n",
            "Epoch=3, Batch_size=100.\n",
            "Epoch=4, Batch_size=100.\n",
            "Epoch=5, Batch_size=100.\n",
            "Epoch=6, Batch_size=100.\n",
            "Epoch=7, Batch_size=100.\n",
            "Epoch=8, Batch_size=100.\n",
            "Epoch=9, Batch_size=100.\n",
            "Epoch=10, Batch_size=100.\n",
            "Epoch=11, Batch_size=100.\n",
            "Epoch=12, Batch_size=100.\n",
            "Epoch=13, Batch_size=100.\n",
            "Epoch=14, Batch_size=100.\n",
            "Epoch=15, Batch_size=100.\n",
            "Epoch=16, Batch_size=100.\n",
            "Epoch=17, Batch_size=100.\n",
            "Epoch=18, Batch_size=100.\n",
            "Epoch=19, Batch_size=100.\n",
            "Epoch=20, Batch_size=100.\n",
            "Epoch=21, Batch_size=100.\n",
            "Epoch=22, Batch_size=100.\n",
            "Epoch=23, Batch_size=100.\n",
            "Epoch=24, Batch_size=100.\n",
            "Epoch=25, Batch_size=100.\n",
            "Epoch=26, Batch_size=100.\n",
            "Epoch=27, Batch_size=100.\n",
            "Epoch=28, Batch_size=100.\n",
            "Epoch=29, Batch_size=100.\n",
            "Epoch=30, Batch_size=100.\n",
            "Epoch=31, Batch_size=100.\n",
            "Epoch=32, Batch_size=100.\n",
            "Epoch=33, Batch_size=100.\n",
            "Epoch=34, Batch_size=100.\n",
            "Epoch=35, Batch_size=100.\n",
            "Epoch=36, Batch_size=100.\n",
            "Epoch=37, Batch_size=100.\n",
            "Epoch=38, Batch_size=100.\n",
            "Epoch=39, Batch_size=100.\n",
            "Epoch=40, Batch_size=100.\n",
            "Epoch=41, Batch_size=100.\n",
            "Epoch=42, Batch_size=100.\n",
            "Epoch=43, Batch_size=100.\n",
            "Epoch=44, Batch_size=100.\n",
            "Epoch=45, Batch_size=100.\n",
            "Epoch=46, Batch_size=100.\n",
            "Epoch=47, Batch_size=100.\n",
            "Epoch=48, Batch_size=100.\n",
            "Epoch=49, Batch_size=100.\n",
            "Epoch=0, Batch_size=100.\n",
            "Epoch=1, Batch_size=100.\n",
            "Epoch=2, Batch_size=100.\n",
            "Epoch=3, Batch_size=100.\n",
            "Epoch=4, Batch_size=100.\n",
            "Epoch=5, Batch_size=100.\n",
            "Epoch=6, Batch_size=100.\n",
            "Epoch=7, Batch_size=100.\n",
            "Epoch=8, Batch_size=100.\n",
            "Epoch=9, Batch_size=100.\n",
            "Epoch=10, Batch_size=100.\n",
            "Epoch=11, Batch_size=100.\n",
            "Epoch=12, Batch_size=100.\n",
            "Epoch=13, Batch_size=100.\n",
            "Epoch=14, Batch_size=100.\n",
            "Epoch=15, Batch_size=100.\n",
            "Epoch=16, Batch_size=100.\n",
            "Epoch=17, Batch_size=100.\n",
            "Epoch=18, Batch_size=100.\n",
            "Epoch=19, Batch_size=100.\n",
            "Epoch=20, Batch_size=100.\n",
            "Epoch=21, Batch_size=100.\n",
            "Epoch=22, Batch_size=100.\n",
            "Epoch=23, Batch_size=100.\n",
            "Epoch=24, Batch_size=100.\n",
            "Epoch=25, Batch_size=100.\n",
            "Epoch=26, Batch_size=100.\n",
            "Epoch=27, Batch_size=100.\n",
            "Epoch=28, Batch_size=100.\n",
            "Epoch=29, Batch_size=100.\n",
            "Epoch=30, Batch_size=100.\n",
            "Epoch=31, Batch_size=100.\n",
            "Epoch=32, Batch_size=100.\n",
            "Epoch=33, Batch_size=100.\n",
            "Epoch=34, Batch_size=100.\n",
            "Epoch=35, Batch_size=100.\n",
            "Epoch=36, Batch_size=100.\n",
            "Epoch=37, Batch_size=100.\n",
            "Epoch=38, Batch_size=100.\n",
            "Epoch=39, Batch_size=100.\n",
            "Epoch=40, Batch_size=100.\n",
            "Epoch=41, Batch_size=100.\n",
            "Epoch=42, Batch_size=100.\n",
            "Epoch=43, Batch_size=100.\n",
            "Epoch=44, Batch_size=100.\n",
            "Epoch=45, Batch_size=100.\n",
            "Epoch=46, Batch_size=100.\n",
            "Epoch=47, Batch_size=100.\n",
            "Epoch=48, Batch_size=100.\n",
            "Epoch=49, Batch_size=100.\n",
            "Epoch=0, Batch_size=100.\n",
            "Epoch=1, Batch_size=100.\n",
            "Epoch=2, Batch_size=100.\n",
            "Epoch=3, Batch_size=100.\n",
            "Epoch=4, Batch_size=100.\n",
            "Epoch=5, Batch_size=100.\n",
            "Epoch=6, Batch_size=100.\n",
            "Epoch=7, Batch_size=100.\n",
            "Epoch=8, Batch_size=100.\n",
            "Epoch=9, Batch_size=100.\n",
            "Epoch=10, Batch_size=100.\n",
            "Epoch=11, Batch_size=100.\n",
            "Epoch=12, Batch_size=100.\n",
            "Epoch=13, Batch_size=100.\n",
            "Epoch=14, Batch_size=100.\n",
            "Epoch=15, Batch_size=100.\n",
            "Epoch=16, Batch_size=100.\n",
            "Epoch=17, Batch_size=100.\n",
            "Epoch=18, Batch_size=100.\n",
            "Epoch=19, Batch_size=100.\n",
            "Epoch=20, Batch_size=100.\n",
            "Epoch=21, Batch_size=100.\n",
            "Epoch=22, Batch_size=100.\n",
            "Epoch=23, Batch_size=100.\n",
            "Epoch=24, Batch_size=100.\n",
            "Epoch=25, Batch_size=100.\n",
            "Epoch=26, Batch_size=100.\n",
            "Epoch=27, Batch_size=100.\n",
            "Epoch=28, Batch_size=100.\n",
            "Epoch=29, Batch_size=100.\n",
            "Epoch=30, Batch_size=100.\n",
            "Epoch=31, Batch_size=100.\n",
            "Epoch=32, Batch_size=100.\n",
            "Epoch=33, Batch_size=100.\n",
            "Epoch=34, Batch_size=100.\n",
            "Epoch=35, Batch_size=100.\n",
            "Epoch=36, Batch_size=100.\n",
            "Epoch=37, Batch_size=100.\n",
            "Epoch=38, Batch_size=100.\n",
            "Epoch=39, Batch_size=100.\n",
            "Epoch=40, Batch_size=100.\n",
            "Epoch=41, Batch_size=100.\n",
            "Epoch=42, Batch_size=100.\n",
            "Epoch=43, Batch_size=100.\n",
            "Epoch=44, Batch_size=100.\n",
            "Epoch=45, Batch_size=100.\n",
            "Epoch=46, Batch_size=100.\n",
            "Epoch=47, Batch_size=100.\n",
            "Epoch=48, Batch_size=100.\n",
            "Epoch=49, Batch_size=100.\n",
            "Epochs size 50: Zero-layer-MLP:0.79,  One-layer-MLP: 0.79,  Two-layer-MLP: 0.79.\n",
            "Epoch=0, Batch_size=100.\n",
            "Epoch=1, Batch_size=100.\n",
            "Epoch=2, Batch_size=100.\n",
            "Epoch=3, Batch_size=100.\n",
            "Epoch=4, Batch_size=100.\n",
            "Epoch=5, Batch_size=100.\n",
            "Epoch=6, Batch_size=100.\n",
            "Epoch=7, Batch_size=100.\n",
            "Epoch=8, Batch_size=100.\n",
            "Epoch=9, Batch_size=100.\n",
            "Epoch=10, Batch_size=100.\n",
            "Epoch=11, Batch_size=100.\n",
            "Epoch=12, Batch_size=100.\n",
            "Epoch=13, Batch_size=100.\n",
            "Epoch=14, Batch_size=100.\n",
            "Epoch=15, Batch_size=100.\n",
            "Epoch=16, Batch_size=100.\n",
            "Epoch=17, Batch_size=100.\n",
            "Epoch=18, Batch_size=100.\n",
            "Epoch=19, Batch_size=100.\n",
            "Epoch=20, Batch_size=100.\n",
            "Epoch=21, Batch_size=100.\n",
            "Epoch=22, Batch_size=100.\n",
            "Epoch=23, Batch_size=100.\n",
            "Epoch=24, Batch_size=100.\n",
            "Epoch=25, Batch_size=100.\n",
            "Epoch=26, Batch_size=100.\n",
            "Epoch=27, Batch_size=100.\n",
            "Epoch=28, Batch_size=100.\n",
            "Epoch=29, Batch_size=100.\n",
            "Epoch=30, Batch_size=100.\n",
            "Epoch=31, Batch_size=100.\n",
            "Epoch=32, Batch_size=100.\n",
            "Epoch=33, Batch_size=100.\n",
            "Epoch=34, Batch_size=100.\n",
            "Epoch=35, Batch_size=100.\n",
            "Epoch=36, Batch_size=100.\n",
            "Epoch=37, Batch_size=100.\n",
            "Epoch=38, Batch_size=100.\n",
            "Epoch=39, Batch_size=100.\n",
            "Epoch=40, Batch_size=100.\n",
            "Epoch=41, Batch_size=100.\n",
            "Epoch=42, Batch_size=100.\n",
            "Epoch=43, Batch_size=100.\n",
            "Epoch=44, Batch_size=100.\n",
            "Epoch=45, Batch_size=100.\n",
            "Epoch=46, Batch_size=100.\n",
            "Epoch=47, Batch_size=100.\n",
            "Epoch=48, Batch_size=100.\n",
            "Epoch=49, Batch_size=100.\n",
            "Epoch=50, Batch_size=100.\n",
            "Epoch=51, Batch_size=100.\n",
            "Epoch=52, Batch_size=100.\n",
            "Epoch=53, Batch_size=100.\n",
            "Epoch=54, Batch_size=100.\n",
            "Epoch=55, Batch_size=100.\n",
            "Epoch=56, Batch_size=100.\n",
            "Epoch=57, Batch_size=100.\n",
            "Epoch=58, Batch_size=100.\n",
            "Epoch=59, Batch_size=100.\n",
            "Epoch=60, Batch_size=100.\n",
            "Epoch=61, Batch_size=100.\n",
            "Epoch=62, Batch_size=100.\n",
            "Epoch=63, Batch_size=100.\n",
            "Epoch=64, Batch_size=100.\n",
            "Epoch=65, Batch_size=100.\n",
            "Epoch=66, Batch_size=100.\n",
            "Epoch=67, Batch_size=100.\n",
            "Epoch=68, Batch_size=100.\n",
            "Epoch=69, Batch_size=100.\n",
            "Epoch=70, Batch_size=100.\n",
            "Epoch=71, Batch_size=100.\n",
            "Epoch=72, Batch_size=100.\n",
            "Epoch=73, Batch_size=100.\n",
            "Epoch=74, Batch_size=100.\n",
            "Epoch=75, Batch_size=100.\n",
            "Epoch=76, Batch_size=100.\n",
            "Epoch=77, Batch_size=100.\n",
            "Epoch=78, Batch_size=100.\n",
            "Epoch=79, Batch_size=100.\n",
            "Epoch=80, Batch_size=100.\n",
            "Epoch=81, Batch_size=100.\n",
            "Epoch=82, Batch_size=100.\n",
            "Epoch=83, Batch_size=100.\n",
            "Epoch=84, Batch_size=100.\n",
            "Epoch=85, Batch_size=100.\n",
            "Epoch=86, Batch_size=100.\n",
            "Epoch=87, Batch_size=100.\n",
            "Epoch=88, Batch_size=100.\n",
            "Epoch=89, Batch_size=100.\n",
            "Epoch=90, Batch_size=100.\n",
            "Epoch=91, Batch_size=100.\n",
            "Epoch=92, Batch_size=100.\n",
            "Epoch=93, Batch_size=100.\n",
            "Epoch=94, Batch_size=100.\n",
            "Epoch=95, Batch_size=100.\n",
            "Epoch=96, Batch_size=100.\n",
            "Epoch=97, Batch_size=100.\n",
            "Epoch=98, Batch_size=100.\n",
            "Epoch=99, Batch_size=100.\n",
            "Epoch=0, Batch_size=100.\n",
            "Epoch=1, Batch_size=100.\n",
            "Epoch=2, Batch_size=100.\n",
            "Epoch=3, Batch_size=100.\n",
            "Epoch=4, Batch_size=100.\n",
            "Epoch=5, Batch_size=100.\n",
            "Epoch=6, Batch_size=100.\n",
            "Epoch=7, Batch_size=100.\n",
            "Epoch=8, Batch_size=100.\n",
            "Epoch=9, Batch_size=100.\n",
            "Epoch=10, Batch_size=100.\n",
            "Epoch=11, Batch_size=100.\n",
            "Epoch=12, Batch_size=100.\n",
            "Epoch=13, Batch_size=100.\n",
            "Epoch=14, Batch_size=100.\n",
            "Epoch=15, Batch_size=100.\n",
            "Epoch=16, Batch_size=100.\n",
            "Epoch=17, Batch_size=100.\n",
            "Epoch=18, Batch_size=100.\n",
            "Epoch=19, Batch_size=100.\n",
            "Epoch=20, Batch_size=100.\n",
            "Epoch=21, Batch_size=100.\n",
            "Epoch=22, Batch_size=100.\n",
            "Epoch=23, Batch_size=100.\n",
            "Epoch=24, Batch_size=100.\n",
            "Epoch=25, Batch_size=100.\n",
            "Epoch=26, Batch_size=100.\n",
            "Epoch=27, Batch_size=100.\n",
            "Epoch=28, Batch_size=100.\n",
            "Epoch=29, Batch_size=100.\n",
            "Epoch=30, Batch_size=100.\n",
            "Epoch=31, Batch_size=100.\n",
            "Epoch=32, Batch_size=100.\n",
            "Epoch=33, Batch_size=100.\n",
            "Epoch=34, Batch_size=100.\n",
            "Epoch=35, Batch_size=100.\n",
            "Epoch=36, Batch_size=100.\n",
            "Epoch=37, Batch_size=100.\n",
            "Epoch=38, Batch_size=100.\n",
            "Epoch=39, Batch_size=100.\n",
            "Epoch=40, Batch_size=100.\n",
            "Epoch=41, Batch_size=100.\n",
            "Epoch=42, Batch_size=100.\n",
            "Epoch=43, Batch_size=100.\n",
            "Epoch=44, Batch_size=100.\n",
            "Epoch=45, Batch_size=100.\n",
            "Epoch=46, Batch_size=100.\n",
            "Epoch=47, Batch_size=100.\n",
            "Epoch=48, Batch_size=100.\n",
            "Epoch=49, Batch_size=100.\n",
            "Epoch=50, Batch_size=100.\n",
            "Epoch=51, Batch_size=100.\n",
            "Epoch=52, Batch_size=100.\n",
            "Epoch=53, Batch_size=100.\n",
            "Epoch=54, Batch_size=100.\n",
            "Epoch=55, Batch_size=100.\n",
            "Epoch=56, Batch_size=100.\n",
            "Epoch=57, Batch_size=100.\n",
            "Epoch=58, Batch_size=100.\n",
            "Epoch=59, Batch_size=100.\n",
            "Epoch=60, Batch_size=100.\n",
            "Epoch=61, Batch_size=100.\n",
            "Epoch=62, Batch_size=100.\n",
            "Epoch=63, Batch_size=100.\n",
            "Epoch=64, Batch_size=100.\n",
            "Epoch=65, Batch_size=100.\n",
            "Epoch=66, Batch_size=100.\n",
            "Epoch=67, Batch_size=100.\n",
            "Epoch=68, Batch_size=100.\n",
            "Epoch=69, Batch_size=100.\n",
            "Epoch=70, Batch_size=100.\n",
            "Epoch=71, Batch_size=100.\n",
            "Epoch=72, Batch_size=100.\n",
            "Epoch=73, Batch_size=100.\n",
            "Epoch=74, Batch_size=100.\n",
            "Epoch=75, Batch_size=100.\n",
            "Epoch=76, Batch_size=100.\n",
            "Epoch=77, Batch_size=100.\n",
            "Epoch=78, Batch_size=100.\n",
            "Epoch=79, Batch_size=100.\n",
            "Epoch=80, Batch_size=100.\n",
            "Epoch=81, Batch_size=100.\n",
            "Epoch=82, Batch_size=100.\n",
            "Epoch=83, Batch_size=100.\n",
            "Epoch=84, Batch_size=100.\n",
            "Epoch=85, Batch_size=100.\n",
            "Epoch=86, Batch_size=100.\n",
            "Epoch=87, Batch_size=100.\n",
            "Epoch=88, Batch_size=100.\n",
            "Epoch=89, Batch_size=100.\n",
            "Epoch=90, Batch_size=100.\n",
            "Epoch=91, Batch_size=100.\n",
            "Epoch=92, Batch_size=100.\n",
            "Epoch=93, Batch_size=100.\n",
            "Epoch=94, Batch_size=100.\n",
            "Epoch=95, Batch_size=100.\n",
            "Epoch=96, Batch_size=100.\n",
            "Epoch=97, Batch_size=100.\n",
            "Epoch=98, Batch_size=100.\n",
            "Epoch=99, Batch_size=100.\n",
            "Epoch=0, Batch_size=100.\n",
            "Epoch=1, Batch_size=100.\n",
            "Epoch=2, Batch_size=100.\n",
            "Epoch=3, Batch_size=100.\n",
            "Epoch=4, Batch_size=100.\n",
            "Epoch=5, Batch_size=100.\n",
            "Epoch=6, Batch_size=100.\n",
            "Epoch=7, Batch_size=100.\n",
            "Epoch=8, Batch_size=100.\n",
            "Epoch=9, Batch_size=100.\n",
            "Epoch=10, Batch_size=100.\n",
            "Epoch=11, Batch_size=100.\n",
            "Epoch=12, Batch_size=100.\n",
            "Epoch=13, Batch_size=100.\n",
            "Epoch=14, Batch_size=100.\n",
            "Epoch=15, Batch_size=100.\n",
            "Epoch=16, Batch_size=100.\n",
            "Epoch=17, Batch_size=100.\n",
            "Epoch=18, Batch_size=100.\n",
            "Epoch=19, Batch_size=100.\n",
            "Epoch=20, Batch_size=100.\n",
            "Epoch=21, Batch_size=100.\n",
            "Epoch=22, Batch_size=100.\n",
            "Epoch=23, Batch_size=100.\n",
            "Epoch=24, Batch_size=100.\n",
            "Epoch=25, Batch_size=100.\n",
            "Epoch=26, Batch_size=100.\n",
            "Epoch=27, Batch_size=100.\n",
            "Epoch=28, Batch_size=100.\n",
            "Epoch=29, Batch_size=100.\n",
            "Epoch=30, Batch_size=100.\n",
            "Epoch=31, Batch_size=100.\n",
            "Epoch=32, Batch_size=100.\n",
            "Epoch=33, Batch_size=100.\n",
            "Epoch=34, Batch_size=100.\n",
            "Epoch=35, Batch_size=100.\n",
            "Epoch=36, Batch_size=100.\n",
            "Epoch=37, Batch_size=100.\n",
            "Epoch=38, Batch_size=100.\n",
            "Epoch=39, Batch_size=100.\n",
            "Epoch=40, Batch_size=100.\n",
            "Epoch=41, Batch_size=100.\n",
            "Epoch=42, Batch_size=100.\n",
            "Epoch=43, Batch_size=100.\n",
            "Epoch=44, Batch_size=100.\n",
            "Epoch=45, Batch_size=100.\n",
            "Epoch=46, Batch_size=100.\n",
            "Epoch=47, Batch_size=100.\n",
            "Epoch=48, Batch_size=100.\n",
            "Epoch=49, Batch_size=100.\n",
            "Epoch=50, Batch_size=100.\n",
            "Epoch=51, Batch_size=100.\n",
            "Epoch=52, Batch_size=100.\n",
            "Epoch=53, Batch_size=100.\n",
            "Epoch=54, Batch_size=100.\n",
            "Epoch=55, Batch_size=100.\n",
            "Epoch=56, Batch_size=100.\n",
            "Epoch=57, Batch_size=100.\n",
            "Epoch=58, Batch_size=100.\n",
            "Epoch=59, Batch_size=100.\n",
            "Epoch=60, Batch_size=100.\n",
            "Epoch=61, Batch_size=100.\n",
            "Epoch=62, Batch_size=100.\n",
            "Epoch=63, Batch_size=100.\n",
            "Epoch=64, Batch_size=100.\n",
            "Epoch=65, Batch_size=100.\n",
            "Epoch=66, Batch_size=100.\n",
            "Epoch=67, Batch_size=100.\n",
            "Epoch=68, Batch_size=100.\n",
            "Epoch=69, Batch_size=100.\n",
            "Epoch=70, Batch_size=100.\n",
            "Epoch=71, Batch_size=100.\n",
            "Epoch=72, Batch_size=100.\n",
            "Epoch=73, Batch_size=100.\n",
            "Epoch=74, Batch_size=100.\n",
            "Epoch=75, Batch_size=100.\n",
            "Epoch=76, Batch_size=100.\n",
            "Epoch=77, Batch_size=100.\n",
            "Epoch=78, Batch_size=100.\n",
            "Epoch=79, Batch_size=100.\n",
            "Epoch=80, Batch_size=100.\n",
            "Epoch=81, Batch_size=100.\n",
            "Epoch=82, Batch_size=100.\n",
            "Epoch=83, Batch_size=100.\n",
            "Epoch=84, Batch_size=100.\n",
            "Epoch=85, Batch_size=100.\n",
            "Epoch=86, Batch_size=100.\n",
            "Epoch=87, Batch_size=100.\n",
            "Epoch=88, Batch_size=100.\n",
            "Epoch=89, Batch_size=100.\n",
            "Epoch=90, Batch_size=100.\n",
            "Epoch=91, Batch_size=100.\n",
            "Epoch=92, Batch_size=100.\n",
            "Epoch=93, Batch_size=100.\n",
            "Epoch=94, Batch_size=100.\n",
            "Epoch=95, Batch_size=100.\n",
            "Epoch=96, Batch_size=100.\n",
            "Epoch=97, Batch_size=100.\n",
            "Epoch=98, Batch_size=100.\n",
            "Epoch=99, Batch_size=100.\n",
            "Epochs size 100: Zero-layer-MLP:0.79,  One-layer-MLP: 0.81,  Two-layer-MLP: 0.79.\n"
          ]
        },
        {
          "output_type": "display_data",
          "data": {
            "text/plain": [
              "<Figure size 432x288 with 1 Axes>"
            ],
            "image/png": "[encoded data removed]"
          },
          "metadata": {
            "needs_background": "light"
          }
        },
        {
          "output_type": "stream",
          "name": "stdout",
          "text": [
            "Epoch=0, Batch_size=0.\n",
            "Epoch=1, Batch_size=0.\n",
            "Epoch=2, Batch_size=0.\n",
            "Epoch=3, Batch_size=0.\n",
            "Epoch=4, Batch_size=0.\n",
            "Epoch=0, Batch_size=0.\n",
            "Epoch=1, Batch_size=0.\n",
            "Epoch=2, Batch_size=0.\n",
            "Epoch=3, Batch_size=0.\n",
            "Epoch=4, Batch_size=0.\n",
            "Epoch=0, Batch_size=0.\n",
            "Epoch=1, Batch_size=0.\n",
            "Epoch=2, Batch_size=0.\n",
            "Epoch=3, Batch_size=0.\n",
            "Epoch=4, Batch_size=0.\n",
            "Batch size of 0: Zero-layer-MLP:0.1,  One-layer-MLP: 0.1,  Two-layer-MLP: 0.1.\n",
            "Epoch=0, Batch_size=10.\n",
            "Epoch=1, Batch_size=10.\n",
            "Epoch=2, Batch_size=10.\n",
            "Epoch=3, Batch_size=10.\n",
            "Epoch=4, Batch_size=10.\n"
          ]
        },
        {
          "output_type": "stream",
          "name": "stderr",
          "text": [
            "/usr/local/lib/python3.7/dist-packages/ipykernel_launcher.py:47: RuntimeWarning: invalid value encountered in true_divide\n"
          ]
        },
        {
          "output_type": "stream",
          "name": "stdout",
          "text": [
            "Epoch=0, Batch_size=10.\n",
            "Epoch=1, Batch_size=10.\n",
            "Epoch=2, Batch_size=10.\n",
            "Epoch=3, Batch_size=10.\n",
            "Epoch=4, Batch_size=10.\n",
            "Epoch=0, Batch_size=10.\n",
            "Epoch=1, Batch_size=10.\n",
            "Epoch=2, Batch_size=10.\n",
            "Epoch=3, Batch_size=10.\n",
            "Epoch=4, Batch_size=10.\n",
            "Batch size of 10: Zero-layer-MLP:0.54,  One-layer-MLP: 0.44,  Two-layer-MLP: 0.4.\n",
            "Epoch=0, Batch_size=100.\n",
            "Epoch=1, Batch_size=100.\n",
            "Epoch=2, Batch_size=100.\n",
            "Epoch=3, Batch_size=100.\n",
            "Epoch=4, Batch_size=100.\n",
            "Epoch=0, Batch_size=100.\n",
            "Epoch=1, Batch_size=100.\n",
            "Epoch=2, Batch_size=100.\n",
            "Epoch=3, Batch_size=100.\n",
            "Epoch=4, Batch_size=100.\n",
            "Epoch=0, Batch_size=100.\n",
            "Epoch=1, Batch_size=100.\n",
            "Epoch=2, Batch_size=100.\n",
            "Epoch=3, Batch_size=100.\n",
            "Epoch=4, Batch_size=100.\n",
            "Batch size of 100: Zero-layer-MLP:0.65,  One-layer-MLP: 0.7,  Two-layer-MLP: 0.69.\n",
            "Epoch=0, Batch_size=1000.\n",
            "Epoch=1, Batch_size=1000.\n",
            "Epoch=2, Batch_size=1000.\n",
            "Epoch=3, Batch_size=1000.\n",
            "Epoch=4, Batch_size=1000.\n",
            "Epoch=0, Batch_size=1000.\n",
            "Epoch=1, Batch_size=1000.\n",
            "Epoch=2, Batch_size=1000.\n",
            "Epoch=3, Batch_size=1000.\n",
            "Epoch=4, Batch_size=1000.\n",
            "Epoch=0, Batch_size=1000.\n",
            "Epoch=1, Batch_size=1000.\n",
            "Epoch=2, Batch_size=1000.\n",
            "Epoch=3, Batch_size=1000.\n",
            "Epoch=4, Batch_size=1000.\n",
            "Batch size of 1000: Zero-layer-MLP:0.71,  One-layer-MLP: 0.71,  Two-layer-MLP: 0.73.\n",
            "Epoch=0, Batch_size=10000.\n",
            "Epoch=1, Batch_size=10000.\n",
            "Epoch=2, Batch_size=10000.\n",
            "Epoch=3, Batch_size=10000.\n",
            "Epoch=4, Batch_size=10000.\n",
            "Epoch=0, Batch_size=10000.\n",
            "Epoch=1, Batch_size=10000.\n",
            "Epoch=2, Batch_size=10000.\n",
            "Epoch=3, Batch_size=10000.\n",
            "Epoch=4, Batch_size=10000.\n",
            "Epoch=0, Batch_size=10000.\n",
            "Epoch=1, Batch_size=10000.\n",
            "Epoch=2, Batch_size=10000.\n",
            "Epoch=3, Batch_size=10000.\n",
            "Epoch=4, Batch_size=10000.\n",
            "Batch size of 10000: Zero-layer-MLP:0.72,  One-layer-MLP: 0.72,  Two-layer-MLP: 0.72.\n"
          ]
        },
        {
          "output_type": "display_data",
          "data": {
            "text/plain": [
              "<Figure size 432x288 with 1 Axes>"
            ],
            "image/png": "[encoded data removed]"
          },
          "metadata": {
            "needs_background": "light"
          }
        }
      ]
    },
    {
      "cell_type": "markdown",
      "source": [
        "#### 3.2 Replace the activation function of the 2-layer-MLP with tanh and Leaky-ReLU"
      ],
      "metadata": {
        "id": "eZ_sLnHt74hd"
      }
    },
    {
      "cell_type": "code",
      "source": [
        "optimizer = StochasticGradientDescent(epochs=epochs, batch_size=batch_size, data_size=data_size, learning_rate=lr, max_iters=max_iters)\n",
        "\n",
        "Two_layer_mlp = MLP(hidden_nodes, hidden_layers=2, act_func=ActivationFunctions(fun='tanh'))\n",
        "two_layer_mlp_pred = Two_layer_mlp.fit(x_train, y_train, epochs=epochs, batch_size=batch_size, optimizer=optimizer).predict(x_test)\n",
        "two_layer_mlp_acc = Two_layer_mlp.evaluation(y_pred = two_layer_mlp_pred, y=y_test)\n",
        "\n",
        "print(\"Accuracy using tanh:\", two_layer_mlp_acc)\n",
        "\n",
        "Two_layer_mlp = MLP(hidden_nodes, hidden_layers=2, act_func=ActivationFunctions(fun='leaky_ReLU'))\n",
        "two_layer_mlp_pred = Two_layer_mlp.fit(x_train, y_train, epochs=epochs, batch_size=batch_size, optimizer=optimizer).predict(x_test)\n",
        "two_layer_mlp_acc = Two_layer_mlp.evaluation(y_pred = two_layer_mlp_pred, y=y_test)\n",
        "\n",
        "print(\"Accuracy using leaky_ReLU:\", two_layer_mlp_acc)"
      ],
      "metadata": {
        "id": "8Gf2HFsd73Tn",
        "colab": {
          "base_uri": "https://localhost:8080/"
        },
        "outputId": "eb152680-5a02-4d3f-8223-d690c4e988de"
      },
      "execution_count": 41,
      "outputs": [
        {
          "output_type": "stream",
          "name": "stdout",
          "text": [
            "Epoch=0, Batch_size=100.\n",
            "Epoch=1, Batch_size=100.\n",
            "Epoch=2, Batch_size=100.\n",
            "Epoch=3, Batch_size=100.\n",
            "Epoch=4, Batch_size=100.\n",
            "Accuracy using tanh: 0.18\n",
            "Epoch=0, Batch_size=100.\n",
            "Epoch=1, Batch_size=100.\n",
            "Epoch=2, Batch_size=100.\n",
            "Epoch=3, Batch_size=100.\n",
            "Epoch=4, Batch_size=100.\n",
            "Accuracy using leaky_ReLU: 0.12\n"
          ]
        }
      ]
    },
    {
      "cell_type": "markdown",
      "source": [
        "#### 3.3 Dropout regulation\n",
        "Create an MLP with 2 hidden layers each having 128 units with ReLU activations as above. However, this time, add dropout regularization to the network and train the MLP in this way. "
      ],
      "metadata": {
        "id": "Kz9ILzD6WQoe"
      }
    },
    {
      "cell_type": "code",
      "source": [
        "# randomly drop out nodes by a probablitity\n",
        "drop_rate = [0.10, 0.25, 0.50, 0.75, 0.80]\n",
        "accuracy_zero = [] \n",
        "accuracy_one = [] \n",
        "accuracy_two = []\n",
        "\n",
        "for i in range(len(drop_rate)):\n",
        "  act_func = ActivationFunctions(fun = 'ReLU')\n",
        "  optimizer = StochasticGradientDescent(epochs=epochs, batch_size=batch_size, data_size=data_size, learning_rate=lr, max_iters=max_iters)\n",
        "\n",
        "  Zero_layer_mlp = MLP(hidden_nodes, hidden_layers=0, act_func=act_func, drop_out=True, rate=drop_rate[i])\n",
        "  zero_layer_mlp_pred = mlp.fit(x_train, y_train, epochs=epochs, batch_size=batch_size, optimizer=optimizer).predict(x_test)\n",
        "  zero_layer_mlp_acc = mlp.evaluation(y_pred=one_mlp_pred,y=y_test)\n",
        "  accuracy_zero.append(zero_layer_mlp_acc)\n",
        "  \n",
        "  One_layer_mlp = MLP(hidden_nodes, hidden_layers=1, act_func=act_func, drop_out=True, rate=drop_rate[i])\n",
        "  one_layer_mlp_pred = mlp.fit(x_train, y_train, epochs=epochs, batch_size=batch_size, optimizer=optimizer).predict(x_test)\n",
        "  one_layer_mlp_acc = mlp.evaluation(y_pred=one_mlp_pred,y=y_test)\n",
        "  accuracy_one.append(one_layer_mlp_acc)\n",
        "\n",
        "  Two_layer_mlp = MLP(hidden_nodes, hidden_layers=2, act_func=act_func, drop_out=True, rate=drop_rate[i])\n",
        "  two_layer_mlp_pred = Two_layer_mlp.fit(x_train, y_train, epochs=epochs, batch_size=batch_size, optimizer=optimizer).predict(x_test)\n",
        "  two_layer_mlp_acc = Two_layer_mlp.evaluation(y_pred = two_layer_mlp_pred, y=y_test)\n",
        "  accuracy_two.append(two_layer_mlp_acc)\n",
        "\n",
        "  print(\"Accuracy with dropout rate of \" + str(drop_rate[i]) + \": \" + str(f\"Zero-layer-MLP:{zero_layer_mlp_acc},  One-layer-MLP: {one_layer_mlp_acc},  Two-layer-MLP: {two_layer_mlp_acc}.\"))\n",
        "\n",
        "plt.plot(drop_rate, accuracy_zero, label = \"Zero-layer\")\n",
        "plt.plot(drop_rate, accuracy_one, label = \"One-layer\")\n",
        "plt.plot(drop_rate, accuracy_two, label = \"Two-layer\")\n",
        "plt.title('Effect of dropout rate on model accuracy')\n",
        "plt.xlabel('Dropout Rate')\n",
        "plt.ylabel('Accuracy')\n",
        "plt.legend()\n",
        "plt.show()"
      ],
      "metadata": {
        "id": "gq-0-mPeWkc5",
        "colab": {
          "base_uri": "https://localhost:8080/",
          "height": 1000
        },
        "outputId": "a0b99411-386d-4eb1-fee5-04d13a8df55a"
      },
      "execution_count": 43,
      "outputs": [
        {
          "output_type": "stream",
          "name": "stdout",
          "text": [
            "Epoch=0, Batch_size=100.\n",
            "Epoch=1, Batch_size=100.\n",
            "Epoch=2, Batch_size=100.\n",
            "Epoch=3, Batch_size=100.\n",
            "Epoch=4, Batch_size=100.\n",
            "Epoch=0, Batch_size=100.\n",
            "Epoch=1, Batch_size=100.\n",
            "Epoch=2, Batch_size=100.\n",
            "Epoch=3, Batch_size=100.\n",
            "Epoch=4, Batch_size=100.\n",
            "Epoch=0, Batch_size=100.\n",
            "Epoch=1, Batch_size=100.\n",
            "Epoch=2, Batch_size=100.\n",
            "Epoch=3, Batch_size=100.\n",
            "Epoch=4, Batch_size=100.\n",
            "Accuracy with dropout rate of 0.1: Zero-layer-MLP:0.72,  One-layer-MLP: 0.72,  Two-layer-MLP: 0.11.\n",
            "Epoch=0, Batch_size=100.\n",
            "Epoch=1, Batch_size=100.\n",
            "Epoch=2, Batch_size=100.\n",
            "Epoch=3, Batch_size=100.\n",
            "Epoch=4, Batch_size=100.\n",
            "Epoch=0, Batch_size=100.\n",
            "Epoch=1, Batch_size=100.\n",
            "Epoch=2, Batch_size=100.\n",
            "Epoch=3, Batch_size=100.\n",
            "Epoch=4, Batch_size=100.\n",
            "Epoch=0, Batch_size=100.\n",
            "Epoch=1, Batch_size=100.\n",
            "Epoch=2, Batch_size=100.\n",
            "Epoch=3, Batch_size=100.\n",
            "Epoch=4, Batch_size=100.\n",
            "Accuracy with dropout rate of 0.25: Zero-layer-MLP:0.72,  One-layer-MLP: 0.72,  Two-layer-MLP: 0.13.\n",
            "Epoch=0, Batch_size=100.\n",
            "Epoch=1, Batch_size=100.\n",
            "Epoch=2, Batch_size=100.\n",
            "Epoch=3, Batch_size=100.\n",
            "Epoch=4, Batch_size=100.\n",
            "Epoch=0, Batch_size=100.\n",
            "Epoch=1, Batch_size=100.\n",
            "Epoch=2, Batch_size=100.\n",
            "Epoch=3, Batch_size=100.\n",
            "Epoch=4, Batch_size=100.\n",
            "Epoch=0, Batch_size=100.\n",
            "Epoch=1, Batch_size=100.\n",
            "Epoch=2, Batch_size=100.\n",
            "Epoch=3, Batch_size=100.\n",
            "Epoch=4, Batch_size=100.\n",
            "Accuracy with dropout rate of 0.5: Zero-layer-MLP:0.72,  One-layer-MLP: 0.72,  Two-layer-MLP: 0.12.\n",
            "Epoch=0, Batch_size=100.\n",
            "Epoch=1, Batch_size=100.\n",
            "Epoch=2, Batch_size=100.\n",
            "Epoch=3, Batch_size=100.\n",
            "Epoch=4, Batch_size=100.\n",
            "Epoch=0, Batch_size=100.\n",
            "Epoch=1, Batch_size=100.\n",
            "Epoch=2, Batch_size=100.\n",
            "Epoch=3, Batch_size=100.\n",
            "Epoch=4, Batch_size=100.\n",
            "Epoch=0, Batch_size=100.\n",
            "Epoch=1, Batch_size=100.\n",
            "Epoch=2, Batch_size=100.\n",
            "Epoch=3, Batch_size=100.\n",
            "Epoch=4, Batch_size=100.\n",
            "Accuracy with dropout rate of 0.75: Zero-layer-MLP:0.72,  One-layer-MLP: 0.72,  Two-layer-MLP: 0.15.\n",
            "Epoch=0, Batch_size=100.\n",
            "Epoch=1, Batch_size=100.\n",
            "Epoch=2, Batch_size=100.\n",
            "Epoch=3, Batch_size=100.\n",
            "Epoch=4, Batch_size=100.\n",
            "Epoch=0, Batch_size=100.\n",
            "Epoch=1, Batch_size=100.\n",
            "Epoch=2, Batch_size=100.\n",
            "Epoch=3, Batch_size=100.\n",
            "Epoch=4, Batch_size=100.\n",
            "Epoch=0, Batch_size=100.\n",
            "Epoch=1, Batch_size=100.\n",
            "Epoch=2, Batch_size=100.\n",
            "Epoch=3, Batch_size=100.\n",
            "Epoch=4, Batch_size=100.\n",
            "Accuracy with dropout rate of 0.8: Zero-layer-MLP:0.72,  One-layer-MLP: 0.72,  Two-layer-MLP: 0.12.\n"
          ]
        },
        {
          "output_type": "display_data",
          "data": {
            "text/plain": [
              "<Figure size 432x288 with 1 Axes>"
            ],
            "image/png": "[encoded data removed]"
          },
          "metadata": {
            "needs_background": "light"
          }
        }
      ]
    },
    {
      "cell_type": "markdown",
      "source": [
        "#### 3.4 Train with unnormalized images\n",
        "Create an MLP with 2 hidden layers each having 128 units with ReLU activations as above. However, this time, train it with unnormalized images. How does this affect the accuracy?"
      ],
      "metadata": {
        "id": "xHCYMu0026HD"
      }
    },
    {
      "cell_type": "code",
      "source": [
        "np.min(x_train), np.max(x_train)"
      ],
      "metadata": {
        "colab": {
          "base_uri": "https://localhost:8080/"
        },
        "id": "5V9Y1Klfse8K",
        "outputId": "e3bff32f-f57e-4535-8ed0-184adfea3ecf"
      },
      "execution_count": 44,
      "outputs": [
        {
          "output_type": "execute_result",
          "data": {
            "text/plain": [
              "(0.0, 1.0)"
            ]
          },
          "metadata": {},
          "execution_count": 44
        }
      ]
    },
    {
      "cell_type": "code",
      "source": [
        "np.min(x_train*255.0), np.max(x_train*255.0)"
      ],
      "metadata": {
        "colab": {
          "base_uri": "https://localhost:8080/"
        },
        "id": "oZapNfQOs-eD",
        "outputId": "04dc1691-04d2-4d38-ec88-27f6325b758f"
      },
      "execution_count": 45,
      "outputs": [
        {
          "output_type": "execute_result",
          "data": {
            "text/plain": [
              "(0.0, 255.0)"
            ]
          },
          "metadata": {},
          "execution_count": 45
        }
      ]
    },
    {
      "cell_type": "code",
      "source": [
        "optimizer = StochasticGradientDescent(epochs=epochs, batch_size=batch_size, data_size=data_size, learning_rate=lr, max_iters=max_iters)\n",
        "\n",
        "Two_layer_mlp = MLP(hidden_nodes, hidden_layers=2, act_func=ActivationFunctions(fun='ReLU'))\n",
        "two_layer_mlp_pred = Two_layer_mlp.fit(x_train, y_train, epochs=epochs, batch_size=batch_size, optimizer=optimizer)\n",
        "\n",
        "print(Two_layer_mlp.params)"
      ],
      "metadata": {
        "id": "_J2U774OwU68",
        "colab": {
          "base_uri": "https://localhost:8080/"
        },
        "outputId": "3b62416b-debc-456d-92bb-aadf69dfdb78"
      },
      "execution_count": 46,
      "outputs": [
        {
          "output_type": "stream",
          "name": "stdout",
          "text": [
            "Epoch=0, Batch_size=100.\n",
            "Epoch=1, Batch_size=100.\n",
            "Epoch=2, Batch_size=100.\n",
            "Epoch=3, Batch_size=100.\n",
            "Epoch=4, Batch_size=100.\n",
            "[array([[-0.00651663,  0.00839541,  0.00887048, ..., -0.00361465,\n",
            "         0.0254467 , -0.00874345],\n",
            "       [ 0.00859798, -0.00635761,  0.00120648, ...,  0.00937568,\n",
            "        -0.00305576,  0.00440792],\n",
            "       [-0.00175454, -0.01208737,  0.0061786 , ..., -0.00545217,\n",
            "        -0.0024135 , -0.01910855],\n",
            "       ...,\n",
            "       [ 0.00537708,  0.00668956,  0.00035599, ..., -0.00568083,\n",
            "        -0.00751626, -0.00658634],\n",
            "       [ 0.01533227, -0.00654814, -0.01003084, ...,  0.00080144,\n",
            "         0.00168831, -0.00626007],\n",
            "       [-0.02612132,  0.00692763,  0.02296498, ...,  0.00503181,\n",
            "        -0.00492035, -0.00487883]]), array([[-8.81630702e-03, -8.21345949e-03,  1.08660018e-03, ...,\n",
            "         9.94733640e-03,  2.15240068e-03, -1.98779455e-03],\n",
            "       [-1.60618193e-02, -1.01749977e-02, -7.07887916e-03, ...,\n",
            "         1.54770660e-03, -6.82027259e-03, -1.25949098e-03],\n",
            "       [-5.35866049e-03,  1.40347235e-02, -3.31879906e-03, ...,\n",
            "         9.32354966e-03,  1.12388329e-02,  9.93481302e-03],\n",
            "       ...,\n",
            "       [-2.23354529e-03,  3.89794286e-05, -1.41371967e-02, ...,\n",
            "        -7.88228677e-03, -4.40138499e-03, -3.66186305e-04],\n",
            "       [-1.69790435e-02,  2.06180548e-03,  2.94973157e-02, ...,\n",
            "        -1.58270604e-02, -2.70775704e-03, -2.52769500e-03],\n",
            "       [-3.85535966e-03, -2.67892225e-03,  1.25570622e-02, ...,\n",
            "         9.44716120e-04, -6.37607665e-05, -1.10170558e-02]]), array([[-0.01701102,  0.00505488, -0.01321164, ..., -0.00543617,\n",
            "         0.00710139, -0.00942307],\n",
            "       [ 0.00196955, -0.01387609,  0.00597307, ..., -0.00435263,\n",
            "         0.00895154, -0.00827941],\n",
            "       [ 0.00980689, -0.00489246,  0.00800919, ...,  0.00423166,\n",
            "         0.00517614,  0.00386576],\n",
            "       ...,\n",
            "       [ 0.00432074, -0.01081086, -0.01220293, ...,  0.00809013,\n",
            "        -0.02046396, -0.01210871],\n",
            "       [-0.01149614, -0.00226851,  0.01450361, ...,  0.00453471,\n",
            "        -0.00492192,  0.00257301],\n",
            "       [ 0.00979723,  0.00730519, -0.00941895, ..., -0.00026308,\n",
            "        -0.00726121, -0.00156533]])]\n"
          ]
        }
      ]
    },
    {
      "cell_type": "code",
      "source": [
        "x_train, x_test = x_train * 255.0, x_test * 255.0 # undo normalization\n",
        "optimizer = StochasticGradientDescent(epochs=epochs, batch_size=batch_size, data_size=data_size, learning_rate=lr, max_iters=max_iters)\n",
        "\n",
        "Two_layer_mlp = MLP(hidden_nodes, hidden_layers=2, act_func=ActivationFunctions(fun='ReLU'))\n",
        "two_layer_mlp_pred = Two_layer_mlp.fit(x_train, y_train, epochs=epochs, batch_size=batch_size, optimizer=optimizer).predict(x_test)\n",
        "two_layer_mlp_acc = Two_layer_mlp.evaluation(y_pred = two_layer_mlp_pred, y=y_test)\n",
        "\n",
        "print(\"Accuracy using unomalized images:\", two_layer_mlp_acc)\n"
      ],
      "metadata": {
        "id": "oOssp3ie250O",
        "colab": {
          "base_uri": "https://localhost:8080/"
        },
        "outputId": "64ee0a2a-8e44-4626-8d6c-23159afea816"
      },
      "execution_count": 47,
      "outputs": [
        {
          "output_type": "stream",
          "name": "stdout",
          "text": [
            "Epoch=0, Batch_size=100.\n",
            "Epoch=1, Batch_size=100.\n",
            "Epoch=2, Batch_size=100.\n",
            "Epoch=3, Batch_size=100.\n",
            "Epoch=4, Batch_size=100.\n",
            "Accuracy using unomalized images: 0.1\n"
          ]
        },
        {
          "output_type": "stream",
          "name": "stderr",
          "text": [
            "/usr/local/lib/python3.7/dist-packages/ipykernel_launcher.py:15: RuntimeWarning: overflow encountered in exp\n",
            "  from ipykernel import kernelapp as app\n",
            "/usr/local/lib/python3.7/dist-packages/ipykernel_launcher.py:18: RuntimeWarning: invalid value encountered in true_divide\n"
          ]
        }
      ]
    },
    {
      "cell_type": "markdown",
      "source": [
        "#### 3.5 CNN with 2 convolutional and 2 fully connected layers. \n",
        "Set the activations in all of the layers to be ReLu. \n",
        "Train this CNN on the Fashion-MNIST dataset. "
      ],
      "metadata": {
        "id": "nsGsgWIdYrcv"
      }
    },
    {
      "cell_type": "code",
      "source": [
        "!pip install -q -U tensorflow>=1.8.0\n",
        "import tensorflow as tf"
      ],
      "metadata": {
        "id": "xSaqZFK3Kvo8"
      },
      "execution_count": 48,
      "outputs": []
    },
    {
      "cell_type": "code",
      "source": [
        "def build_CNNmodel(filters=[64,32,256], pool_size=2, kernel_size=2, padding='same', activation='relu', dropout=[0.3, 0.3, 0.5], show_summary=False):\n",
        "  model = tf.keras.Sequential()\n",
        "  # Must define the input shape in the first layer of the neural network\n",
        "  model.add(tf.keras.layers.Conv2D(filters=filters[0], kernel_size=kernel_size, padding=padding, activation=activation, input_shape=(28,28,1))) \n",
        "  model.add(tf.keras.layers.MaxPooling2D(pool_size=pool_size))\n",
        "  model.add(tf.keras.layers.Dropout(dropout[0]))\n",
        "  model.add(tf.keras.layers.Conv2D(filters=filters[1], kernel_size=kernel_size, padding=padding, activation=activation))\n",
        "  model.add(tf.keras.layers.MaxPooling2D(pool_size=pool_size))\n",
        "  model.add(tf.keras.layers.Dropout(dropout[1]))\n",
        "  model.add(tf.keras.layers.Flatten())\n",
        "  model.add(tf.keras.layers.Dense(128, activation=activation))\n",
        "  model.add(tf.keras.layers.Dense(128, activation=activation))\n",
        "  model.add(tf.keras.layers.Dropout(dropout[2]))\n",
        "  model.add(tf.keras.layers.Dense(10, activation='softmax'))\n",
        "  # Take a look at the model summary\n",
        "  if show_summary:\n",
        "    model.summary()\n",
        "\n",
        "  model.compile(loss='categorical_crossentropy',\n",
        "              optimizer='adam',\n",
        "              metrics=['accuracy'])\n",
        "  return model"
      ],
      "metadata": {
        "id": "RS1wf7MzGf2C"
      },
      "execution_count": 49,
      "outputs": []
    },
    {
      "cell_type": "code",
      "source": [
        "def load_CNNdata():\n",
        "  (x_train, y_train), (x_test, y_test) = tf.keras.datasets.fashion_mnist.load_data()\n",
        "  x_train = x_train.astype('float32') / 255\n",
        "  x_test = x_test.astype('float32') / 255\n",
        "\n",
        "  # Further break training data into train / validation sets (# put 5000 into validation set and keep remaining 55,000 for train)\n",
        "  (x_train, x_valid) = x_train[5000:], x_train[:5000] \n",
        "  (y_train, y_valid) = y_train[5000:], y_train[:5000]\n",
        "\n",
        "  # Reshape input data from (28, 28) to (28, 28, 1)\n",
        "  w, h = 28, 28\n",
        "  x_train = x_train.reshape(x_train.shape[0], w, h, 1)\n",
        "  x_valid = x_valid.reshape(x_valid.shape[0], w, h, 1)\n",
        "  x_test = x_test.reshape(x_test.shape[0], w, h, 1)\n",
        "\n",
        "  # One-hot encode the labels\n",
        "  y_train = tf.keras.utils.to_categorical(y_train, 10)\n",
        "  y_valid = tf.keras.utils.to_categorical(y_valid, 10)\n",
        "  y_test = tf.keras.utils.to_categorical(y_test, 10)\n",
        "  return x_train, y_train, x_valid, y_valid, x_test, y_test\n"
      ],
      "metadata": {
        "id": "b9gVUqN4GmLN"
      },
      "execution_count": 50,
      "outputs": []
    },
    {
      "cell_type": "code",
      "source": [
        "CNNmodel = build_CNNmodel(show_summary=True)\n",
        "x_train, y_train, x_valid, y_valid, x_test, y_test = load_CNNdata()\n",
        "\n",
        "CNNmodel.fit(x_train,\n",
        "         y_train,\n",
        "         batch_size=64,\n",
        "         epochs=10,\n",
        "         validation_data=(x_valid, y_valid))\n",
        "\n",
        "# Evaluate the model on test set\n",
        "score = CNNmodel.evaluate(x_test, y_test, verbose=0)\n",
        "# Print test accuracy\n",
        "print('\\n', 'Test accuracy:', score[1])"
      ],
      "metadata": {
        "colab": {
          "base_uri": "https://localhost:8080/"
        },
        "id": "7ckwdpt3vPDH",
        "outputId": "b3db997a-c49b-483d-8687-5b1cb416e331"
      },
      "execution_count": 51,
      "outputs": [
        {
          "output_type": "stream",
          "name": "stdout",
          "text": [
            "Model: \"sequential\"\n",
            "_________________________________________________________________\n",
            " Layer (type)                Output Shape              Param #   \n",
            "=================================================================\n",
            " conv2d (Conv2D)             (None, 28, 28, 64)        320       \n",
            "                                                                 \n",
            " max_pooling2d (MaxPooling2D  (None, 14, 14, 64)       0         \n",
            " )                                                               \n",
            "                                                                 \n",
            " dropout (Dropout)           (None, 14, 14, 64)        0         \n",
            "                                                                 \n",
            " conv2d_1 (Conv2D)           (None, 14, 14, 32)        8224      \n",
            "                                                                 \n",
            " max_pooling2d_1 (MaxPooling  (None, 7, 7, 32)         0         \n",
            " 2D)                                                             \n",
            "                                                                 \n",
            " dropout_1 (Dropout)         (None, 7, 7, 32)          0         \n",
            "                                                                 \n",
            " flatten (Flatten)           (None, 1568)              0         \n",
            "                                                                 \n",
            " dense (Dense)               (None, 128)               200832    \n",
            "                                                                 \n",
            " dense_1 (Dense)             (None, 128)               16512     \n",
            "                                                                 \n",
            " dropout_2 (Dropout)         (None, 128)               0         \n",
            "                                                                 \n",
            " dense_2 (Dense)             (None, 10)                1290      \n",
            "                                                                 \n",
            "=================================================================\n",
            "Total params: 227,178\n",
            "Trainable params: 227,178\n",
            "Non-trainable params: 0\n",
            "_________________________________________________________________\n",
            "Epoch 1/10\n",
            "860/860 [==============================] - 72s 80ms/step - loss: 0.6601 - accuracy: 0.7551 - val_loss: 0.3869 - val_accuracy: 0.8622\n",
            "Epoch 2/10\n",
            "860/860 [==============================] - 62s 72ms/step - loss: 0.4251 - accuracy: 0.8481 - val_loss: 0.3334 - val_accuracy: 0.8782\n",
            "Epoch 3/10\n",
            "860/860 [==============================] - 62s 72ms/step - loss: 0.3705 - accuracy: 0.8687 - val_loss: 0.2982 - val_accuracy: 0.8908\n",
            "Epoch 4/10\n",
            "860/860 [==============================] - 61s 71ms/step - loss: 0.3347 - accuracy: 0.8807 - val_loss: 0.2865 - val_accuracy: 0.8944\n",
            "Epoch 5/10\n",
            "860/860 [==============================] - 61s 70ms/step - loss: 0.3160 - accuracy: 0.8843 - val_loss: 0.2664 - val_accuracy: 0.9018\n",
            "Epoch 6/10\n",
            "860/860 [==============================] - 60s 70ms/step - loss: 0.2969 - accuracy: 0.8924 - val_loss: 0.2630 - val_accuracy: 0.8998\n",
            "Epoch 7/10\n",
            "860/860 [==============================] - 61s 71ms/step - loss: 0.2824 - accuracy: 0.8973 - val_loss: 0.2478 - val_accuracy: 0.9098\n",
            "Epoch 8/10\n",
            "860/860 [==============================] - 60s 70ms/step - loss: 0.2695 - accuracy: 0.9033 - val_loss: 0.2456 - val_accuracy: 0.9128\n",
            "Epoch 9/10\n",
            "860/860 [==============================] - 61s 70ms/step - loss: 0.2612 - accuracy: 0.9046 - val_loss: 0.2445 - val_accuracy: 0.9120\n",
            "Epoch 10/10\n",
            "860/860 [==============================] - 60s 70ms/step - loss: 0.2519 - accuracy: 0.9079 - val_loss: 0.2371 - val_accuracy: 0.9142\n",
            "\n",
            " Test accuracy: 0.9075000286102295\n"
          ]
        }
      ]
    },
    {
      "cell_type": "markdown",
      "source": [
        "#### 3.6 Optimal MLP\n",
        "Using your MLP implementation, try to come up with an MLP architecture that performs as well as possible. How does this MLP perform compared to the CNN in part 5? Justify your choice of network architecture parameters through careful experiments."
      ],
      "metadata": {
        "id": "wUnQiCQUJyI4"
      }
    },
    {
      "cell_type": "code",
      "source": [
        "epochs = 100\n",
        "lr = 0.1\n",
        "batchsize=600\n",
        "dropout_rate = 0.5\n",
        "optimizer = StochasticGradientDescent(epochs=epochs, batch_size=batchsize, data_size=data_size, learning_rate=lr, max_iters=max_iters)"
      ],
      "metadata": {
        "id": "9Fwwk-wspA7w"
      },
      "execution_count": 52,
      "outputs": []
    },
    {
      "cell_type": "code",
      "source": [
        "x_train, y_train, x_test, y_test = load_data()\n",
        "# one layer mlp\n",
        "mlp = MLP(\n",
        "    hidden_nodes=128, \n",
        "    hidden_layers=1, \n",
        "    act_func=ActivationFunctions('sigmoid'), \n",
        "    drop_out=True, \n",
        "    rate=dropout_rate)\n",
        "mlp_pred = mlp.fit(x_train, y_train, epochs=epochs, batch_size=batchsize, optimizer=optimizer).predict(x_test)\n",
        "mlp_acc = mlp.evaluation(y_pred=mlp_pred, y=y_test)\n"
      ],
      "metadata": {
        "id": "GyXcEG_DGn0O",
        "colab": {
          "base_uri": "https://localhost:8080/"
        },
        "outputId": "1ccf7962-8a6b-450e-91e4-dfdb155cd44d"
      },
      "execution_count": 53,
      "outputs": [
        {
          "output_type": "stream",
          "name": "stdout",
          "text": [
            "Epoch=0, Batch_size=600.\n",
            "Epoch=1, Batch_size=600.\n",
            "Epoch=2, Batch_size=600.\n",
            "Epoch=3, Batch_size=600.\n",
            "Epoch=4, Batch_size=600.\n",
            "Epoch=5, Batch_size=600.\n",
            "Epoch=6, Batch_size=600.\n",
            "Epoch=7, Batch_size=600.\n",
            "Epoch=8, Batch_size=600.\n",
            "Epoch=9, Batch_size=600.\n",
            "Epoch=10, Batch_size=600.\n",
            "Epoch=11, Batch_size=600.\n",
            "Epoch=12, Batch_size=600.\n",
            "Epoch=13, Batch_size=600.\n",
            "Epoch=14, Batch_size=600.\n",
            "Epoch=15, Batch_size=600.\n",
            "Epoch=16, Batch_size=600.\n",
            "Epoch=17, Batch_size=600.\n",
            "Epoch=18, Batch_size=600.\n",
            "Epoch=19, Batch_size=600.\n",
            "Epoch=20, Batch_size=600.\n",
            "Epoch=21, Batch_size=600.\n",
            "Epoch=22, Batch_size=600.\n",
            "Epoch=23, Batch_size=600.\n",
            "Epoch=24, Batch_size=600.\n",
            "Epoch=25, Batch_size=600.\n",
            "Epoch=26, Batch_size=600.\n",
            "Epoch=27, Batch_size=600.\n",
            "Epoch=28, Batch_size=600.\n",
            "Epoch=29, Batch_size=600.\n",
            "Epoch=30, Batch_size=600.\n",
            "Epoch=31, Batch_size=600.\n",
            "Epoch=32, Batch_size=600.\n",
            "Epoch=33, Batch_size=600.\n",
            "Epoch=34, Batch_size=600.\n",
            "Epoch=35, Batch_size=600.\n",
            "Epoch=36, Batch_size=600.\n",
            "Epoch=37, Batch_size=600.\n",
            "Epoch=38, Batch_size=600.\n",
            "Epoch=39, Batch_size=600.\n",
            "Epoch=40, Batch_size=600.\n",
            "Epoch=41, Batch_size=600.\n",
            "Epoch=42, Batch_size=600.\n",
            "Epoch=43, Batch_size=600.\n",
            "Epoch=44, Batch_size=600.\n",
            "Epoch=45, Batch_size=600.\n",
            "Epoch=46, Batch_size=600.\n",
            "Epoch=47, Batch_size=600.\n",
            "Epoch=48, Batch_size=600.\n",
            "Epoch=49, Batch_size=600.\n",
            "Epoch=50, Batch_size=600.\n",
            "Epoch=51, Batch_size=600.\n",
            "Epoch=52, Batch_size=600.\n",
            "Epoch=53, Batch_size=600.\n",
            "Epoch=54, Batch_size=600.\n",
            "Epoch=55, Batch_size=600.\n",
            "Epoch=56, Batch_size=600.\n",
            "Epoch=57, Batch_size=600.\n",
            "Epoch=58, Batch_size=600.\n",
            "Epoch=59, Batch_size=600.\n",
            "Epoch=60, Batch_size=600.\n",
            "Epoch=61, Batch_size=600.\n",
            "Epoch=62, Batch_size=600.\n",
            "Epoch=63, Batch_size=600.\n",
            "Epoch=64, Batch_size=600.\n",
            "Epoch=65, Batch_size=600.\n",
            "Epoch=66, Batch_size=600.\n",
            "Epoch=67, Batch_size=600.\n",
            "Epoch=68, Batch_size=600.\n",
            "Epoch=69, Batch_size=600.\n",
            "Epoch=70, Batch_size=600.\n",
            "Epoch=71, Batch_size=600.\n",
            "Epoch=72, Batch_size=600.\n",
            "Epoch=73, Batch_size=600.\n",
            "Epoch=74, Batch_size=600.\n",
            "Epoch=75, Batch_size=600.\n",
            "Epoch=76, Batch_size=600.\n",
            "Epoch=77, Batch_size=600.\n",
            "Epoch=78, Batch_size=600.\n",
            "Epoch=79, Batch_size=600.\n",
            "Epoch=80, Batch_size=600.\n",
            "Epoch=81, Batch_size=600.\n",
            "Epoch=82, Batch_size=600.\n",
            "Epoch=83, Batch_size=600.\n",
            "Epoch=84, Batch_size=600.\n",
            "Epoch=85, Batch_size=600.\n",
            "Epoch=86, Batch_size=600.\n",
            "Epoch=87, Batch_size=600.\n",
            "Epoch=88, Batch_size=600.\n",
            "Epoch=89, Batch_size=600.\n",
            "Epoch=90, Batch_size=600.\n",
            "Epoch=91, Batch_size=600.\n",
            "Epoch=92, Batch_size=600.\n",
            "Epoch=93, Batch_size=600.\n",
            "Epoch=94, Batch_size=600.\n",
            "Epoch=95, Batch_size=600.\n",
            "Epoch=96, Batch_size=600.\n",
            "Epoch=97, Batch_size=600.\n",
            "Epoch=98, Batch_size=600.\n",
            "Epoch=99, Batch_size=600.\n"
          ]
        }
      ]
    },
    {
      "cell_type": "code",
      "source": [
        "print(\"Optimal MLP: \", mlp_acc)"
      ],
      "metadata": {
        "colab": {
          "base_uri": "https://localhost:8080/"
        },
        "id": "rj-2_vpNoF8b",
        "outputId": "54bfc895-5466-4211-aa6d-7b5e758b1368"
      },
      "execution_count": null,
      "outputs": [
        {
          "output_type": "stream",
          "name": "stdout",
          "text": [
            "Optimal MLP:  0.85\n"
          ]
        }
      ]
    },
    {
      "cell_type": "markdown",
      "source": [
        "#### 3.7 Experiment: Testing the effect of kernel size on the performance of CNNmodel on image classification"
      ],
      "metadata": {
        "id": "GWaUUXvqsZFF"
      }
    },
    {
      "cell_type": "code",
      "source": [
        "kernel_sizes = np.arange(2,10,2)\n",
        "\n",
        "histories = []\n",
        "accuracies = []\n",
        "\n",
        "for k in range(2,10,2): # don't use kernel sizes\n",
        "  print(f\"k={k}\")\n",
        "  CNNmodel = build_CNNmodel(kernel_size=k)\n",
        "  x_train, y_train, x_valid, y_valid, x_test, y_test = load_CNNdata()\n",
        "  history = CNNmodel.fit(x_train, y_train, epochs=5, batch_size=64, validation_data=(x_test, y_test), verbose=0)\n",
        "  _, accuracy = CNNmodel.evaluate(x_test,  y_test, verbose=0) \n",
        "  histories.append(history)\n",
        "  accuracies.append(accuracy)\n",
        "\n",
        "def summarize_results(histories):\n",
        "\tfor i in range(len(histories)):\n",
        "\t\t# # plot loss\n",
        "\t\t# plt.subplot(211)\n",
        "\t\t# plt.title('Cross Entropy Loss')\n",
        "\t\t# plt.plot(histories[i].history['loss'], color='blue', label='train')\n",
        "\t\t# plt.plot(histories[i].history['val_loss'], color='orange', label='test')\n",
        "\t\t# plot accuracy\n",
        "\t\tplt.subplot(111)\n",
        "\t\tplt.title('Classification Accuracy')\n",
        "\t\tplt.plot(histories[i].history['accuracy'], color='blue', label='train')\n",
        "\t\tplt.plot(histories[i].history['val_accuracy'], color='orange', label='test')\n",
        "\tplt.show()\n",
        " \n",
        "summarize_results(histories)\n",
        "print('Accuracy: mean=%.3f std=%.3f, n=%d' % (np.mean(accuracies)*100, np.std(accuracies)*100, len(accuracies)))\n",
        "\t"
      ],
      "metadata": {
        "colab": {
          "base_uri": "https://localhost:8080/",
          "height": 410
        },
        "id": "RLdcr1iusYX2",
        "outputId": "838b19b2-cd64-490a-aa7f-36fa3eaef6f6"
      },
      "execution_count": null,
      "outputs": [
        {
          "metadata": {
            "tags": null
          },
          "name": "stdout",
          "output_type": "stream",
          "text": [
            "k=2\n",
            "k=4\n",
            "k=6\n",
            "k=8\n"
          ]
        },
        {
          "output_type": "stream",
          "name": "stderr",
          "text": [
            "/usr/local/lib/python3.7/dist-packages/ipykernel_launcher.py:23: MatplotlibDeprecationWarning: Adding an axes using the same arguments as a previous axes currently reuses the earlier instance.  In a future version, a new instance will always be created and returned.  Meanwhile, this warning can be suppressed, and the future behavior ensured, by passing a unique label to each axes instance.\n"
          ]
        },
        {
          "output_type": "display_data",
          "data": {
            "text/plain": [
              "<Figure size 432x288 with 1 Axes>"
            ],
            "image/png": "[encoded data removed]"
          },
          "metadata": {
            "needs_background": "light"
          }
        },
        {
          "output_type": "stream",
          "name": "stdout",
          "text": [
            "Accuracy: mean=90.790 std=0.282, n=4\n"
          ]
        }
      ]
    }
  ]
}